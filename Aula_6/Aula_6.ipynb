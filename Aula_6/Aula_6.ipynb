{
  "nbformat": 4,
  "nbformat_minor": 0,
  "metadata": {
    "colab": {
      "name": "Aula_6.ipynb",
      "version": "0.3.2",
      "provenance": []
    },
    "kernelspec": {
      "name": "python3",
      "display_name": "Python 3"
    },
    "accelerator": "GPU"
  },
  "cells": [
    {
      "metadata": {
        "id": "IQduPZe0tjfR",
        "colab_type": "code",
        "colab": {}
      },
      "cell_type": "code",
      "source": [
        "from keras import Model\n",
        "from keras.datasets import fashion_mnist\n",
        "from keras.layers import Input, Conv2D\n",
        "import numpy as np\n",
        "import matplotlib.pyplot as plt\n",
        "from imgaug import augmenters"
      ],
      "execution_count": 0,
      "outputs": []
    },
    {
      "metadata": {
        "id": "uIeXhXzFuAO3",
        "colab_type": "code",
        "outputId": "a88adefb-81c4-490c-ebf9-209066932797",
        "colab": {
          "base_uri": "https://localhost:8080/",
          "height": 648
        }
      },
      "cell_type": "code",
      "source": [
        "!pip install --upgrade scikit-image"
      ],
      "execution_count": 3,
      "outputs": [
        {
          "output_type": "stream",
          "text": [
            "Collecting scikit-image\n",
            "\u001b[?25l  Downloading https://files.pythonhosted.org/packages/d4/ab/674e168bf7d0bc597218b3bec858d02c23fbac9ec1fec9cad878c6cee95f/scikit_image-0.15.0-cp36-cp36m-manylinux1_x86_64.whl (26.3MB)\n",
            "\u001b[K    100% |████████████████████████████████| 26.3MB 1.7MB/s \n",
            "\u001b[?25hRequirement already satisfied, skipping upgrade: PyWavelets>=0.4.0 in /usr/local/lib/python3.6/dist-packages (from scikit-image) (1.0.2)\n",
            "Requirement already satisfied, skipping upgrade: imageio>=2.0.1 in /usr/local/lib/python3.6/dist-packages (from scikit-image) (2.4.1)\n",
            "Requirement already satisfied, skipping upgrade: scipy>=0.17.0 in /usr/local/lib/python3.6/dist-packages (from scikit-image) (1.1.0)\n",
            "Requirement already satisfied, skipping upgrade: networkx>=2.0 in /usr/local/lib/python3.6/dist-packages (from scikit-image) (2.2)\n",
            "Requirement already satisfied, skipping upgrade: matplotlib!=3.0.0,>=2.0.0 in /usr/local/lib/python3.6/dist-packages (from scikit-image) (3.0.3)\n",
            "Collecting pillow>=4.3.0 (from scikit-image)\n",
            "\u001b[?25l  Downloading https://files.pythonhosted.org/packages/d2/c2/f84b1e57416755e967236468dcfb0fad7fd911f707185efc4ba8834a1a94/Pillow-6.0.0-cp36-cp36m-manylinux1_x86_64.whl (2.0MB)\n",
            "\u001b[K    100% |████████████████████████████████| 2.0MB 14.3MB/s \n",
            "\u001b[?25hRequirement already satisfied, skipping upgrade: numpy>=1.9.1 in /usr/local/lib/python3.6/dist-packages (from PyWavelets>=0.4.0->scikit-image) (1.14.6)\n",
            "Requirement already satisfied, skipping upgrade: decorator>=4.3.0 in /usr/local/lib/python3.6/dist-packages (from networkx>=2.0->scikit-image) (4.4.0)\n",
            "Requirement already satisfied, skipping upgrade: cycler>=0.10 in /usr/local/lib/python3.6/dist-packages (from matplotlib!=3.0.0,>=2.0.0->scikit-image) (0.10.0)\n",
            "Requirement already satisfied, skipping upgrade: kiwisolver>=1.0.1 in /usr/local/lib/python3.6/dist-packages (from matplotlib!=3.0.0,>=2.0.0->scikit-image) (1.0.1)\n",
            "Requirement already satisfied, skipping upgrade: pyparsing!=2.0.4,!=2.1.2,!=2.1.6,>=2.0.1 in /usr/local/lib/python3.6/dist-packages (from matplotlib!=3.0.0,>=2.0.0->scikit-image) (2.3.1)\n",
            "Requirement already satisfied, skipping upgrade: python-dateutil>=2.1 in /usr/local/lib/python3.6/dist-packages (from matplotlib!=3.0.0,>=2.0.0->scikit-image) (2.5.3)\n",
            "Requirement already satisfied, skipping upgrade: six in /usr/local/lib/python3.6/dist-packages (from cycler>=0.10->matplotlib!=3.0.0,>=2.0.0->scikit-image) (1.11.0)\n",
            "Requirement already satisfied, skipping upgrade: setuptools in /usr/local/lib/python3.6/dist-packages (from kiwisolver>=1.0.1->matplotlib!=3.0.0,>=2.0.0->scikit-image) (40.9.0)\n",
            "\u001b[31mimgaug 0.2.8 has requirement numpy>=1.15.0, but you'll have numpy 1.14.6 which is incompatible.\u001b[0m\n",
            "\u001b[31mfastai 1.0.51 has requirement numpy>=1.15, but you'll have numpy 1.14.6 which is incompatible.\u001b[0m\n",
            "\u001b[31malbumentations 0.1.12 has requirement imgaug<0.2.7,>=0.2.5, but you'll have imgaug 0.2.8 which is incompatible.\u001b[0m\n",
            "Installing collected packages: pillow, scikit-image\n",
            "  Found existing installation: Pillow 4.1.1\n",
            "    Uninstalling Pillow-4.1.1:\n",
            "      Successfully uninstalled Pillow-4.1.1\n",
            "  Found existing installation: scikit-image 0.13.1\n",
            "    Uninstalling scikit-image-0.13.1:\n",
            "      Successfully uninstalled scikit-image-0.13.1\n",
            "Successfully installed pillow-6.0.0 scikit-image-0.15.0\n"
          ],
          "name": "stdout"
        },
        {
          "output_type": "display_data",
          "data": {
            "application/vnd.colab-display-data+json": {
              "pip_warning": {
                "packages": [
                  "PIL",
                  "skimage"
                ]
              }
            }
          },
          "metadata": {
            "tags": []
          }
        }
      ]
    },
    {
      "metadata": {
        "id": "kQThmRKouVOu",
        "colab_type": "code",
        "colab": {
          "base_uri": "https://localhost:8080/",
          "height": 161
        },
        "outputId": "163635b2-ba49-42d0-955d-1a4a3d5dd754"
      },
      "cell_type": "code",
      "source": [
        "(X_train, y_train), (X_test, y_test) = fashion_mnist.load_data()\n",
        "indices = [idx for idx in range(len(X_train)) if y_train[idx] == 0]\n",
        "X_train = np.asarray([X_train[idx] for idx in indices], dtype=np.float32)\n",
        "\n",
        "indices = [idx for idx in range(len(X_test)) if y_test[idx] == 0]\n",
        "X_test = np.asarray([X_test[idx] for idx in indices], dtype=np.float32)"
      ],
      "execution_count": 4,
      "outputs": [
        {
          "output_type": "stream",
          "text": [
            "Downloading data from http://fashion-mnist.s3-website.eu-central-1.amazonaws.com/train-labels-idx1-ubyte.gz\n",
            "32768/29515 [=================================] - 0s 8us/step\n",
            "Downloading data from http://fashion-mnist.s3-website.eu-central-1.amazonaws.com/train-images-idx3-ubyte.gz\n",
            "26427392/26421880 [==============================] - 4s 0us/step\n",
            "Downloading data from http://fashion-mnist.s3-website.eu-central-1.amazonaws.com/t10k-labels-idx1-ubyte.gz\n",
            "8192/5148 [===============================================] - 0s 0us/step\n",
            "Downloading data from http://fashion-mnist.s3-website.eu-central-1.amazonaws.com/t10k-images-idx3-ubyte.gz\n",
            "4423680/4422102 [==============================] - 2s 0us/step\n"
          ],
          "name": "stdout"
        }
      ]
    },
    {
      "metadata": {
        "id": "YDkcdpUuuokl",
        "colab_type": "code",
        "colab": {}
      },
      "cell_type": "code",
      "source": [
        "X_train = X_train.reshape(-1, 28, 28, 1)/255\n",
        "X_test = X_test.reshape(-1, 28, 28, 1)/255"
      ],
      "execution_count": 0,
      "outputs": []
    },
    {
      "metadata": {
        "id": "ph1QLBDfuq8K",
        "colab_type": "code",
        "colab": {}
      },
      "cell_type": "code",
      "source": [
        "def show_images(images):\n",
        "  f, ax = plt.subplots(1, 5)\n",
        "  f.set_size_inches(10, 5)\n",
        "  for i in range(5, 10):\n",
        "    ax[i - 5].imshow(images[i].reshape(28, 28), cmap='Greys')\n",
        "  plt.show()"
      ],
      "execution_count": 0,
      "outputs": []
    },
    {
      "metadata": {
        "id": "T3jOuBj3uwR5",
        "colab_type": "code",
        "colab": {}
      },
      "cell_type": "code",
      "source": [
        "noise = augmenters.SaltAndPepper(0.1)\n",
        "seq_object = augmenters.Sequential([noise])\n",
        "\n",
        "X_train_n = seq_object.augment_images(X_train * 255)/255\n",
        "X_test_n = seq_object.augment_images(X_test * 255)/255 "
      ],
      "execution_count": 0,
      "outputs": []
    },
    {
      "metadata": {
        "id": "Dmh7Sa2k9tBn",
        "colab_type": "code",
        "colab": {
          "base_uri": "https://localhost:8080/",
          "height": 148
        },
        "outputId": "e082cb88-5321-4e98-f2a4-b22a623b8cc3"
      },
      "cell_type": "code",
      "source": [
        "show_images(X_test_n[:10])\n"
      ],
      "execution_count": 15,
      "outputs": [
        {
          "output_type": "display_data",
          "data": {
            "image/png": "[encoded data removed]",
            "text/plain": [
              "<Figure size 720x360 with 5 Axes>"
            ]
          },
          "metadata": {
            "tags": []
          }
        }
      ]
    },
    {
      "metadata": {
        "id": "6p3zGdTVv11J",
        "colab_type": "code",
        "outputId": "cf8bc26c-ffa7-43d7-b599-df645a73d96d",
        "colab": {
          "base_uri": "https://localhost:8080/",
          "height": 53
        }
      },
      "cell_type": "code",
      "source": [
        "input_layer = Input(shape=(28, 28, 1))\n",
        "\n",
        "encoded_layer_0 = Conv2D(16, (3, 3), activation='relu', padding='same')(input_layer)\n",
        "encoded_layer_1 = Conv2D(32, (3, 3), activation='relu', padding='same')(encoded_layer_0)\n",
        "\n",
        "code = Conv2D(64, (3, 3), activation='relu', padding='same')(encoded_layer_1)\n",
        "print(code.shape)\n",
        "\n",
        "decoded_layer_0 = Conv2D(32, (3, 3), activation='relu', padding='same')(code)\n",
        "decoded_layer_1 = Conv2D(16, (3, 3), activation='relu', padding='same')(decoded_layer_0)\n",
        "\n",
        "output_layer = Conv2D(1, (3, 3), activation='relu', padding='same')(decoded_layer_1)\n",
        "print(output_layer.shape)"
      ],
      "execution_count": 16,
      "outputs": [
        {
          "output_type": "stream",
          "text": [
            "(?, 28, 28, 64)\n",
            "(?, 28, 28, 1)\n"
          ],
          "name": "stdout"
        }
      ]
    },
    {
      "metadata": {
        "id": "gXYTfPfvxxDc",
        "colab_type": "code",
        "outputId": "5f902370-a2c1-4378-d735-6940a3486554",
        "colab": {
          "base_uri": "https://localhost:8080/",
          "height": 7289
        }
      },
      "cell_type": "code",
      "source": [
        "model = Model(input=input_layer, output=output_layer)\n",
        "model.compile(optimizer='adam', loss='mse')\n",
        "model.fit(X_train_n, X_train, epochs=200, batch_size=1024, validation_data=(X_test_n, X_test))"
      ],
      "execution_count": 17,
      "outputs": [
        {
          "output_type": "stream",
          "text": [
            "/usr/local/lib/python3.6/dist-packages/ipykernel_launcher.py:1: UserWarning: Update your `Model` call to the Keras 2 API: `Model(inputs=Tensor(\"in..., outputs=Tensor(\"co...)`\n",
            "  \"\"\"Entry point for launching an IPython kernel.\n"
          ],
          "name": "stderr"
        },
        {
          "output_type": "stream",
          "text": [
            "Train on 6000 samples, validate on 1000 samples\n",
            "Epoch 1/200\n",
            "6000/6000 [==============================] - 2s 251us/step - loss: 0.1151 - val_loss: 0.0594\n",
            "Epoch 2/200\n",
            "6000/6000 [==============================] - 1s 175us/step - loss: 0.0403 - val_loss: 0.0359\n",
            "Epoch 3/200\n",
            "6000/6000 [==============================] - 1s 176us/step - loss: 0.0259 - val_loss: 0.0245\n",
            "Epoch 4/200\n",
            "6000/6000 [==============================] - 1s 174us/step - loss: 0.0210 - val_loss: 0.0171\n",
            "Epoch 5/200\n",
            "6000/6000 [==============================] - 1s 173us/step - loss: 0.0163 - val_loss: 0.0146\n",
            "Epoch 6/200\n",
            "6000/6000 [==============================] - 1s 173us/step - loss: 0.0136 - val_loss: 0.0118\n",
            "Epoch 7/200\n",
            "6000/6000 [==============================] - 1s 175us/step - loss: 0.0109 - val_loss: 0.0095\n",
            "Epoch 8/200\n",
            "6000/6000 [==============================] - 1s 173us/step - loss: 0.0092 - val_loss: 0.0085\n",
            "Epoch 9/200\n",
            "6000/6000 [==============================] - 1s 173us/step - loss: 0.0083 - val_loss: 0.0076\n",
            "Epoch 10/200\n",
            "6000/6000 [==============================] - 1s 173us/step - loss: 0.0075 - val_loss: 0.0070\n",
            "Epoch 11/200\n",
            "6000/6000 [==============================] - 1s 174us/step - loss: 0.0070 - val_loss: 0.0066\n",
            "Epoch 12/200\n",
            "6000/6000 [==============================] - 1s 174us/step - loss: 0.0066 - val_loss: 0.0063\n",
            "Epoch 13/200\n",
            "6000/6000 [==============================] - 1s 173us/step - loss: 0.0063 - val_loss: 0.0060\n",
            "Epoch 14/200\n",
            "6000/6000 [==============================] - 1s 174us/step - loss: 0.0060 - val_loss: 0.0058\n",
            "Epoch 15/200\n",
            "6000/6000 [==============================] - 1s 175us/step - loss: 0.0058 - val_loss: 0.0056\n",
            "Epoch 16/200\n",
            "6000/6000 [==============================] - 1s 174us/step - loss: 0.0057 - val_loss: 0.0055\n",
            "Epoch 17/200\n",
            "6000/6000 [==============================] - 1s 175us/step - loss: 0.0055 - val_loss: 0.0053\n",
            "Epoch 18/200\n",
            "6000/6000 [==============================] - 1s 176us/step - loss: 0.0054 - val_loss: 0.0052\n",
            "Epoch 19/200\n",
            "6000/6000 [==============================] - 1s 176us/step - loss: 0.0053 - val_loss: 0.0051\n",
            "Epoch 20/200\n",
            "6000/6000 [==============================] - 1s 176us/step - loss: 0.0052 - val_loss: 0.0050\n",
            "Epoch 21/200\n",
            "6000/6000 [==============================] - 1s 175us/step - loss: 0.0051 - val_loss: 0.0049\n",
            "Epoch 22/200\n",
            "6000/6000 [==============================] - 1s 175us/step - loss: 0.0050 - val_loss: 0.0048\n",
            "Epoch 23/200\n",
            "6000/6000 [==============================] - 1s 174us/step - loss: 0.0049 - val_loss: 0.0047\n",
            "Epoch 24/200\n",
            "6000/6000 [==============================] - 1s 175us/step - loss: 0.0048 - val_loss: 0.0047\n",
            "Epoch 25/200\n",
            "6000/6000 [==============================] - 1s 176us/step - loss: 0.0047 - val_loss: 0.0046\n",
            "Epoch 26/200\n",
            "6000/6000 [==============================] - 1s 176us/step - loss: 0.0047 - val_loss: 0.0045\n",
            "Epoch 27/200\n",
            "6000/6000 [==============================] - 1s 175us/step - loss: 0.0046 - val_loss: 0.0045\n",
            "Epoch 28/200\n",
            "6000/6000 [==============================] - 1s 175us/step - loss: 0.0046 - val_loss: 0.0044\n",
            "Epoch 29/200\n",
            "6000/6000 [==============================] - 1s 175us/step - loss: 0.0045 - val_loss: 0.0044\n",
            "Epoch 30/200\n",
            "6000/6000 [==============================] - 1s 177us/step - loss: 0.0044 - val_loss: 0.0043\n",
            "Epoch 31/200\n",
            "6000/6000 [==============================] - 1s 176us/step - loss: 0.0044 - val_loss: 0.0043\n",
            "Epoch 32/200\n",
            "6000/6000 [==============================] - 1s 176us/step - loss: 0.0043 - val_loss: 0.0042\n",
            "Epoch 33/200\n",
            "6000/6000 [==============================] - 1s 176us/step - loss: 0.0043 - val_loss: 0.0042\n",
            "Epoch 34/200\n",
            "6000/6000 [==============================] - 1s 175us/step - loss: 0.0042 - val_loss: 0.0041\n",
            "Epoch 35/200\n",
            "6000/6000 [==============================] - 1s 176us/step - loss: 0.0042 - val_loss: 0.0041\n",
            "Epoch 36/200\n",
            "6000/6000 [==============================] - 1s 176us/step - loss: 0.0041 - val_loss: 0.0041\n",
            "Epoch 37/200\n",
            "6000/6000 [==============================] - 1s 176us/step - loss: 0.0041 - val_loss: 0.0040\n",
            "Epoch 38/200\n",
            "6000/6000 [==============================] - 1s 175us/step - loss: 0.0041 - val_loss: 0.0039\n",
            "Epoch 39/200\n",
            "6000/6000 [==============================] - 1s 176us/step - loss: 0.0040 - val_loss: 0.0039\n",
            "Epoch 40/200\n",
            "6000/6000 [==============================] - 1s 176us/step - loss: 0.0040 - val_loss: 0.0038\n",
            "Epoch 41/200\n",
            "6000/6000 [==============================] - 1s 176us/step - loss: 0.0039 - val_loss: 0.0039\n",
            "Epoch 42/200\n",
            "6000/6000 [==============================] - 1s 176us/step - loss: 0.0039 - val_loss: 0.0038\n",
            "Epoch 43/200\n",
            "6000/6000 [==============================] - 1s 176us/step - loss: 0.0038 - val_loss: 0.0038\n",
            "Epoch 44/200\n",
            "6000/6000 [==============================] - 1s 176us/step - loss: 0.0038 - val_loss: 0.0037\n",
            "Epoch 45/200\n",
            "6000/6000 [==============================] - 1s 177us/step - loss: 0.0037 - val_loss: 0.0037\n",
            "Epoch 46/200\n",
            "6000/6000 [==============================] - 1s 176us/step - loss: 0.0038 - val_loss: 0.0036\n",
            "Epoch 47/200\n",
            "6000/6000 [==============================] - 1s 175us/step - loss: 0.0037 - val_loss: 0.0036\n",
            "Epoch 48/200\n",
            "6000/6000 [==============================] - 1s 175us/step - loss: 0.0036 - val_loss: 0.0036\n",
            "Epoch 49/200\n",
            "6000/6000 [==============================] - 1s 176us/step - loss: 0.0036 - val_loss: 0.0035\n",
            "Epoch 50/200\n",
            "6000/6000 [==============================] - 1s 176us/step - loss: 0.0036 - val_loss: 0.0035\n",
            "Epoch 51/200\n",
            "6000/6000 [==============================] - 1s 176us/step - loss: 0.0035 - val_loss: 0.0035\n",
            "Epoch 52/200\n",
            "6000/6000 [==============================] - 1s 175us/step - loss: 0.0035 - val_loss: 0.0034\n",
            "Epoch 53/200\n",
            "6000/6000 [==============================] - 1s 175us/step - loss: 0.0035 - val_loss: 0.0033\n",
            "Epoch 54/200\n",
            "6000/6000 [==============================] - 1s 175us/step - loss: 0.0034 - val_loss: 0.0033\n",
            "Epoch 55/200\n",
            "6000/6000 [==============================] - 1s 176us/step - loss: 0.0034 - val_loss: 0.0033\n",
            "Epoch 56/200\n",
            "6000/6000 [==============================] - 1s 176us/step - loss: 0.0033 - val_loss: 0.0032\n",
            "Epoch 57/200\n",
            "6000/6000 [==============================] - 1s 176us/step - loss: 0.0033 - val_loss: 0.0034\n",
            "Epoch 58/200\n",
            "6000/6000 [==============================] - 1s 176us/step - loss: 0.0033 - val_loss: 0.0032\n",
            "Epoch 59/200\n",
            "6000/6000 [==============================] - 1s 176us/step - loss: 0.0033 - val_loss: 0.0032\n",
            "Epoch 60/200\n",
            "6000/6000 [==============================] - 1s 175us/step - loss: 0.0032 - val_loss: 0.0031\n",
            "Epoch 61/200\n",
            "6000/6000 [==============================] - 1s 176us/step - loss: 0.0032 - val_loss: 0.0031\n",
            "Epoch 62/200\n",
            "6000/6000 [==============================] - 1s 175us/step - loss: 0.0031 - val_loss: 0.0030\n",
            "Epoch 63/200\n",
            "6000/6000 [==============================] - 1s 177us/step - loss: 0.0031 - val_loss: 0.0030\n",
            "Epoch 64/200\n",
            "6000/6000 [==============================] - 1s 176us/step - loss: 0.0031 - val_loss: 0.0030\n",
            "Epoch 65/200\n",
            "6000/6000 [==============================] - 1s 176us/step - loss: 0.0030 - val_loss: 0.0030\n",
            "Epoch 66/200\n",
            "6000/6000 [==============================] - 1s 176us/step - loss: 0.0030 - val_loss: 0.0030\n",
            "Epoch 67/200\n",
            "6000/6000 [==============================] - 1s 175us/step - loss: 0.0030 - val_loss: 0.0029\n",
            "Epoch 68/200\n",
            "6000/6000 [==============================] - 1s 177us/step - loss: 0.0030 - val_loss: 0.0030\n",
            "Epoch 69/200\n",
            "6000/6000 [==============================] - 1s 175us/step - loss: 0.0030 - val_loss: 0.0029\n",
            "Epoch 70/200\n",
            "6000/6000 [==============================] - 1s 176us/step - loss: 0.0029 - val_loss: 0.0028\n",
            "Epoch 71/200\n",
            "6000/6000 [==============================] - 1s 177us/step - loss: 0.0029 - val_loss: 0.0029\n",
            "Epoch 72/200\n",
            "6000/6000 [==============================] - 1s 175us/step - loss: 0.0029 - val_loss: 0.0028\n",
            "Epoch 73/200\n",
            "6000/6000 [==============================] - 1s 176us/step - loss: 0.0029 - val_loss: 0.0028\n",
            "Epoch 74/200\n",
            "6000/6000 [==============================] - 1s 176us/step - loss: 0.0029 - val_loss: 0.0028\n",
            "Epoch 75/200\n",
            "6000/6000 [==============================] - 1s 176us/step - loss: 0.0029 - val_loss: 0.0028\n",
            "Epoch 76/200\n",
            "6000/6000 [==============================] - 1s 175us/step - loss: 0.0029 - val_loss: 0.0028\n",
            "Epoch 77/200\n",
            "6000/6000 [==============================] - 1s 175us/step - loss: 0.0029 - val_loss: 0.0029\n",
            "Epoch 78/200\n",
            "6000/6000 [==============================] - 1s 175us/step - loss: 0.0029 - val_loss: 0.0028\n",
            "Epoch 79/200\n",
            "6000/6000 [==============================] - 1s 176us/step - loss: 0.0028 - val_loss: 0.0028\n",
            "Epoch 80/200\n",
            "6000/6000 [==============================] - 1s 176us/step - loss: 0.0028 - val_loss: 0.0028\n",
            "Epoch 81/200\n",
            "6000/6000 [==============================] - 1s 176us/step - loss: 0.0028 - val_loss: 0.0027\n",
            "Epoch 82/200\n",
            "6000/6000 [==============================] - 1s 175us/step - loss: 0.0028 - val_loss: 0.0027\n",
            "Epoch 83/200\n",
            "6000/6000 [==============================] - 1s 176us/step - loss: 0.0028 - val_loss: 0.0027\n",
            "Epoch 84/200\n",
            "6000/6000 [==============================] - 1s 178us/step - loss: 0.0027 - val_loss: 0.0027\n",
            "Epoch 85/200\n",
            "6000/6000 [==============================] - 1s 175us/step - loss: 0.0027 - val_loss: 0.0026\n",
            "Epoch 86/200\n",
            "6000/6000 [==============================] - 1s 177us/step - loss: 0.0027 - val_loss: 0.0026\n",
            "Epoch 87/200\n",
            "6000/6000 [==============================] - 1s 176us/step - loss: 0.0027 - val_loss: 0.0026\n",
            "Epoch 88/200\n",
            "6000/6000 [==============================] - 1s 176us/step - loss: 0.0027 - val_loss: 0.0026\n",
            "Epoch 89/200\n",
            "6000/6000 [==============================] - 1s 175us/step - loss: 0.0027 - val_loss: 0.0026\n",
            "Epoch 90/200\n",
            "6000/6000 [==============================] - 1s 175us/step - loss: 0.0027 - val_loss: 0.0026\n",
            "Epoch 91/200\n",
            "6000/6000 [==============================] - 1s 175us/step - loss: 0.0027 - val_loss: 0.0026\n",
            "Epoch 92/200\n",
            "6000/6000 [==============================] - 1s 176us/step - loss: 0.0027 - val_loss: 0.0026\n",
            "Epoch 93/200\n",
            "6000/6000 [==============================] - 1s 177us/step - loss: 0.0027 - val_loss: 0.0027\n",
            "Epoch 94/200\n",
            "6000/6000 [==============================] - 1s 176us/step - loss: 0.0027 - val_loss: 0.0026\n",
            "Epoch 95/200\n",
            "6000/6000 [==============================] - 1s 175us/step - loss: 0.0027 - val_loss: 0.0026\n",
            "Epoch 96/200\n",
            "6000/6000 [==============================] - 1s 175us/step - loss: 0.0027 - val_loss: 0.0026\n",
            "Epoch 97/200\n",
            "6000/6000 [==============================] - 1s 176us/step - loss: 0.0026 - val_loss: 0.0026\n",
            "Epoch 98/200\n",
            "6000/6000 [==============================] - 1s 176us/step - loss: 0.0026 - val_loss: 0.0025\n",
            "Epoch 99/200\n",
            "6000/6000 [==============================] - 1s 176us/step - loss: 0.0026 - val_loss: 0.0025\n",
            "Epoch 100/200\n",
            "6000/6000 [==============================] - 1s 177us/step - loss: 0.0026 - val_loss: 0.0025\n",
            "Epoch 101/200\n",
            "6000/6000 [==============================] - 1s 175us/step - loss: 0.0026 - val_loss: 0.0025\n",
            "Epoch 102/200\n",
            "6000/6000 [==============================] - 1s 175us/step - loss: 0.0026 - val_loss: 0.0025\n",
            "Epoch 103/200\n",
            "6000/6000 [==============================] - 1s 176us/step - loss: 0.0026 - val_loss: 0.0026\n",
            "Epoch 104/200\n",
            "6000/6000 [==============================] - 1s 177us/step - loss: 0.0026 - val_loss: 0.0026\n",
            "Epoch 105/200\n",
            "6000/6000 [==============================] - 1s 174us/step - loss: 0.0026 - val_loss: 0.0026\n",
            "Epoch 106/200\n",
            "6000/6000 [==============================] - 1s 176us/step - loss: 0.0026 - val_loss: 0.0025\n",
            "Epoch 107/200\n",
            "6000/6000 [==============================] - 1s 175us/step - loss: 0.0026 - val_loss: 0.0025\n",
            "Epoch 108/200\n",
            "6000/6000 [==============================] - 1s 175us/step - loss: 0.0026 - val_loss: 0.0025\n",
            "Epoch 109/200\n",
            "6000/6000 [==============================] - 1s 176us/step - loss: 0.0025 - val_loss: 0.0025\n",
            "Epoch 110/200\n",
            "6000/6000 [==============================] - 1s 176us/step - loss: 0.0025 - val_loss: 0.0025\n",
            "Epoch 111/200\n",
            "6000/6000 [==============================] - 1s 175us/step - loss: 0.0025 - val_loss: 0.0025\n",
            "Epoch 112/200\n",
            "6000/6000 [==============================] - 1s 175us/step - loss: 0.0025 - val_loss: 0.0024\n",
            "Epoch 113/200\n",
            "6000/6000 [==============================] - 1s 176us/step - loss: 0.0025 - val_loss: 0.0024\n",
            "Epoch 114/200\n",
            "6000/6000 [==============================] - 1s 174us/step - loss: 0.0025 - val_loss: 0.0024\n",
            "Epoch 115/200\n",
            "6000/6000 [==============================] - 1s 176us/step - loss: 0.0025 - val_loss: 0.0025\n",
            "Epoch 116/200\n",
            "6000/6000 [==============================] - 1s 176us/step - loss: 0.0025 - val_loss: 0.0024\n",
            "Epoch 117/200\n",
            "6000/6000 [==============================] - 1s 176us/step - loss: 0.0025 - val_loss: 0.0024\n",
            "Epoch 118/200\n",
            "6000/6000 [==============================] - 1s 175us/step - loss: 0.0025 - val_loss: 0.0024\n",
            "Epoch 119/200\n",
            "6000/6000 [==============================] - 1s 175us/step - loss: 0.0025 - val_loss: 0.0025\n",
            "Epoch 120/200\n",
            "6000/6000 [==============================] - 1s 175us/step - loss: 0.0026 - val_loss: 0.0024\n",
            "Epoch 121/200\n",
            "6000/6000 [==============================] - 1s 175us/step - loss: 0.0025 - val_loss: 0.0024\n",
            "Epoch 122/200\n",
            "6000/6000 [==============================] - 1s 175us/step - loss: 0.0025 - val_loss: 0.0024\n",
            "Epoch 123/200\n",
            "6000/6000 [==============================] - 1s 176us/step - loss: 0.0025 - val_loss: 0.0024\n",
            "Epoch 124/200\n",
            "6000/6000 [==============================] - 1s 175us/step - loss: 0.0024 - val_loss: 0.0024\n",
            "Epoch 125/200\n",
            "6000/6000 [==============================] - 1s 175us/step - loss: 0.0024 - val_loss: 0.0024\n",
            "Epoch 126/200\n",
            "6000/6000 [==============================] - 1s 175us/step - loss: 0.0024 - val_loss: 0.0024\n",
            "Epoch 127/200\n",
            "6000/6000 [==============================] - 1s 177us/step - loss: 0.0024 - val_loss: 0.0024\n",
            "Epoch 128/200\n",
            "6000/6000 [==============================] - 1s 175us/step - loss: 0.0024 - val_loss: 0.0025\n",
            "Epoch 129/200\n",
            "6000/6000 [==============================] - 1s 175us/step - loss: 0.0025 - val_loss: 0.0024\n",
            "Epoch 130/200\n",
            "6000/6000 [==============================] - 1s 176us/step - loss: 0.0024 - val_loss: 0.0024\n",
            "Epoch 131/200\n",
            "6000/6000 [==============================] - 1s 175us/step - loss: 0.0024 - val_loss: 0.0024\n",
            "Epoch 132/200\n",
            "6000/6000 [==============================] - 1s 175us/step - loss: 0.0024 - val_loss: 0.0023\n",
            "Epoch 133/200\n",
            "6000/6000 [==============================] - 1s 176us/step - loss: 0.0024 - val_loss: 0.0023\n",
            "Epoch 134/200\n",
            "6000/6000 [==============================] - 1s 176us/step - loss: 0.0024 - val_loss: 0.0023\n",
            "Epoch 135/200\n",
            "6000/6000 [==============================] - 1s 175us/step - loss: 0.0024 - val_loss: 0.0023\n",
            "Epoch 136/200\n",
            "6000/6000 [==============================] - 1s 177us/step - loss: 0.0024 - val_loss: 0.0023\n",
            "Epoch 137/200\n",
            "6000/6000 [==============================] - 1s 177us/step - loss: 0.0024 - val_loss: 0.0026\n",
            "Epoch 138/200\n",
            "6000/6000 [==============================] - 1s 175us/step - loss: 0.0026 - val_loss: 0.0024\n",
            "Epoch 139/200\n",
            "6000/6000 [==============================] - 1s 175us/step - loss: 0.0024 - val_loss: 0.0024\n",
            "Epoch 140/200\n",
            "6000/6000 [==============================] - 1s 177us/step - loss: 0.0024 - val_loss: 0.0023\n",
            "Epoch 141/200\n",
            "6000/6000 [==============================] - 1s 176us/step - loss: 0.0024 - val_loss: 0.0023\n",
            "Epoch 142/200\n",
            "6000/6000 [==============================] - 1s 175us/step - loss: 0.0024 - val_loss: 0.0023\n",
            "Epoch 143/200\n",
            "6000/6000 [==============================] - 1s 176us/step - loss: 0.0024 - val_loss: 0.0023\n",
            "Epoch 144/200\n",
            "6000/6000 [==============================] - 1s 176us/step - loss: 0.0023 - val_loss: 0.0023\n",
            "Epoch 145/200\n",
            "6000/6000 [==============================] - 1s 176us/step - loss: 0.0023 - val_loss: 0.0023\n",
            "Epoch 146/200\n",
            "6000/6000 [==============================] - 1s 175us/step - loss: 0.0023 - val_loss: 0.0023\n",
            "Epoch 147/200\n",
            "6000/6000 [==============================] - 1s 176us/step - loss: 0.0023 - val_loss: 0.0023\n",
            "Epoch 148/200\n",
            "6000/6000 [==============================] - 1s 176us/step - loss: 0.0023 - val_loss: 0.0023\n",
            "Epoch 149/200\n",
            "6000/6000 [==============================] - 1s 175us/step - loss: 0.0023 - val_loss: 0.0023\n",
            "Epoch 150/200\n",
            "6000/6000 [==============================] - 1s 175us/step - loss: 0.0023 - val_loss: 0.0023\n",
            "Epoch 151/200\n",
            "6000/6000 [==============================] - 1s 176us/step - loss: 0.0023 - val_loss: 0.0023\n",
            "Epoch 152/200\n",
            "6000/6000 [==============================] - 1s 174us/step - loss: 0.0023 - val_loss: 0.0023\n",
            "Epoch 153/200\n",
            "6000/6000 [==============================] - 1s 176us/step - loss: 0.0023 - val_loss: 0.0023\n",
            "Epoch 154/200\n",
            "6000/6000 [==============================] - 1s 176us/step - loss: 0.0023 - val_loss: 0.0023\n",
            "Epoch 155/200\n",
            "6000/6000 [==============================] - 1s 175us/step - loss: 0.0023 - val_loss: 0.0023\n",
            "Epoch 156/200\n",
            "6000/6000 [==============================] - 1s 175us/step - loss: 0.0023 - val_loss: 0.0022\n",
            "Epoch 157/200\n",
            "6000/6000 [==============================] - 1s 175us/step - loss: 0.0023 - val_loss: 0.0023\n",
            "Epoch 158/200\n",
            "6000/6000 [==============================] - 1s 175us/step - loss: 0.0024 - val_loss: 0.0023\n",
            "Epoch 159/200\n",
            "6000/6000 [==============================] - 1s 177us/step - loss: 0.0023 - val_loss: 0.0022\n",
            "Epoch 160/200\n",
            "6000/6000 [==============================] - 1s 176us/step - loss: 0.0023 - val_loss: 0.0023\n",
            "Epoch 161/200\n",
            "6000/6000 [==============================] - 1s 175us/step - loss: 0.0023 - val_loss: 0.0022\n",
            "Epoch 162/200\n",
            "6000/6000 [==============================] - 1s 176us/step - loss: 0.0023 - val_loss: 0.0022\n",
            "Epoch 163/200\n",
            "6000/6000 [==============================] - 1s 175us/step - loss: 0.0023 - val_loss: 0.0022\n",
            "Epoch 164/200\n",
            "6000/6000 [==============================] - 1s 176us/step - loss: 0.0023 - val_loss: 0.0023\n",
            "Epoch 165/200\n",
            "6000/6000 [==============================] - 1s 176us/step - loss: 0.0023 - val_loss: 0.0022\n",
            "Epoch 166/200\n",
            "6000/6000 [==============================] - 1s 176us/step - loss: 0.0023 - val_loss: 0.0022\n",
            "Epoch 167/200\n",
            "6000/6000 [==============================] - 1s 176us/step - loss: 0.0023 - val_loss: 0.0022\n",
            "Epoch 168/200\n",
            "6000/6000 [==============================] - 1s 175us/step - loss: 0.0022 - val_loss: 0.0022\n",
            "Epoch 169/200\n",
            "6000/6000 [==============================] - 1s 175us/step - loss: 0.0023 - val_loss: 0.0022\n",
            "Epoch 170/200\n",
            "6000/6000 [==============================] - 1s 176us/step - loss: 0.0022 - val_loss: 0.0022\n",
            "Epoch 171/200\n",
            "6000/6000 [==============================] - 1s 175us/step - loss: 0.0023 - val_loss: 0.0022\n",
            "Epoch 172/200\n",
            "6000/6000 [==============================] - 1s 176us/step - loss: 0.0022 - val_loss: 0.0022\n",
            "Epoch 173/200\n",
            "6000/6000 [==============================] - 1s 175us/step - loss: 0.0022 - val_loss: 0.0022\n",
            "Epoch 174/200\n",
            "6000/6000 [==============================] - 1s 175us/step - loss: 0.0022 - val_loss: 0.0022\n",
            "Epoch 175/200\n",
            "6000/6000 [==============================] - 1s 176us/step - loss: 0.0022 - val_loss: 0.0022\n",
            "Epoch 176/200\n",
            "6000/6000 [==============================] - 1s 175us/step - loss: 0.0022 - val_loss: 0.0022\n",
            "Epoch 177/200\n",
            "6000/6000 [==============================] - 1s 176us/step - loss: 0.0023 - val_loss: 0.0022\n",
            "Epoch 178/200\n",
            "6000/6000 [==============================] - 1s 176us/step - loss: 0.0022 - val_loss: 0.0022\n",
            "Epoch 179/200\n",
            "6000/6000 [==============================] - 1s 175us/step - loss: 0.0022 - val_loss: 0.0022\n",
            "Epoch 180/200\n",
            "6000/6000 [==============================] - 1s 177us/step - loss: 0.0022 - val_loss: 0.0022\n",
            "Epoch 181/200\n",
            "6000/6000 [==============================] - 1s 175us/step - loss: 0.0022 - val_loss: 0.0022\n",
            "Epoch 182/200\n",
            "6000/6000 [==============================] - 1s 177us/step - loss: 0.0023 - val_loss: 0.0022\n",
            "Epoch 183/200\n",
            "6000/6000 [==============================] - 1s 177us/step - loss: 0.0022 - val_loss: 0.0022\n",
            "Epoch 184/200\n",
            "6000/6000 [==============================] - 1s 178us/step - loss: 0.0022 - val_loss: 0.0022\n",
            "Epoch 185/200\n",
            "6000/6000 [==============================] - 1s 176us/step - loss: 0.0022 - val_loss: 0.0022\n",
            "Epoch 186/200\n",
            "6000/6000 [==============================] - 1s 175us/step - loss: 0.0022 - val_loss: 0.0022\n",
            "Epoch 187/200\n",
            "6000/6000 [==============================] - 1s 177us/step - loss: 0.0022 - val_loss: 0.0022\n",
            "Epoch 188/200\n",
            "6000/6000 [==============================] - 1s 176us/step - loss: 0.0022 - val_loss: 0.0022\n",
            "Epoch 189/200\n",
            "6000/6000 [==============================] - 1s 176us/step - loss: 0.0022 - val_loss: 0.0021\n",
            "Epoch 190/200\n",
            "6000/6000 [==============================] - 1s 176us/step - loss: 0.0022 - val_loss: 0.0022\n",
            "Epoch 191/200\n",
            "6000/6000 [==============================] - 1s 177us/step - loss: 0.0022 - val_loss: 0.0022\n",
            "Epoch 192/200\n",
            "6000/6000 [==============================] - 1s 176us/step - loss: 0.0022 - val_loss: 0.0021\n",
            "Epoch 193/200\n",
            "6000/6000 [==============================] - 1s 177us/step - loss: 0.0022 - val_loss: 0.0022\n",
            "Epoch 194/200\n",
            "6000/6000 [==============================] - 1s 176us/step - loss: 0.0022 - val_loss: 0.0021\n",
            "Epoch 195/200\n",
            "6000/6000 [==============================] - 1s 175us/step - loss: 0.0022 - val_loss: 0.0021\n",
            "Epoch 196/200\n",
            "6000/6000 [==============================] - 1s 177us/step - loss: 0.0022 - val_loss: 0.0021\n",
            "Epoch 197/200\n",
            "6000/6000 [==============================] - 1s 175us/step - loss: 0.0022 - val_loss: 0.0021\n",
            "Epoch 198/200\n",
            "6000/6000 [==============================] - 1s 177us/step - loss: 0.0022 - val_loss: 0.0021\n",
            "Epoch 199/200\n",
            "6000/6000 [==============================] - 1s 177us/step - loss: 0.0021 - val_loss: 0.0021\n",
            "Epoch 200/200\n",
            "6000/6000 [==============================] - 1s 174us/step - loss: 0.0022 - val_loss: 0.0021\n"
          ],
          "name": "stdout"
        },
        {
          "output_type": "execute_result",
          "data": {
            "text/plain": [
              "<keras.callbacks.History at 0x7f4961d51dd8>"
            ]
          },
          "metadata": {
            "tags": []
          },
          "execution_count": 17
        }
      ]
    },
    {
      "metadata": {
        "id": "ANjQZjvAyXYj",
        "colab_type": "code",
        "outputId": "2db36c7a-1658-45a6-a793-322c067df30d",
        "colab": {
          "base_uri": "https://localhost:8080/",
          "height": 395
        }
      },
      "cell_type": "code",
      "source": [
        "model.summary()"
      ],
      "execution_count": 10,
      "outputs": [
        {
          "output_type": "stream",
          "text": [
            "_________________________________________________________________\n",
            "Layer (type)                 Output Shape              Param #   \n",
            "=================================================================\n",
            "input_1 (InputLayer)         (None, 28, 28, 1)         0         \n",
            "_________________________________________________________________\n",
            "conv2d_1 (Conv2D)            (None, 28, 28, 16)        160       \n",
            "_________________________________________________________________\n",
            "conv2d_2 (Conv2D)            (None, 28, 28, 32)        4640      \n",
            "_________________________________________________________________\n",
            "conv2d_3 (Conv2D)            (None, 28, 28, 64)        18496     \n",
            "_________________________________________________________________\n",
            "conv2d_4 (Conv2D)            (None, 28, 28, 32)        18464     \n",
            "_________________________________________________________________\n",
            "conv2d_5 (Conv2D)            (None, 28, 28, 16)        4624      \n",
            "_________________________________________________________________\n",
            "conv2d_6 (Conv2D)            (None, 28, 28, 1)         145       \n",
            "=================================================================\n",
            "Total params: 46,529\n",
            "Trainable params: 46,529\n",
            "Non-trainable params: 0\n",
            "_________________________________________________________________\n"
          ],
          "name": "stdout"
        }
      ]
    },
    {
      "metadata": {
        "id": "qnZyTAjIzVlL",
        "colab_type": "code",
        "outputId": "150fd0d9-46c2-405b-c3ff-4c7deae25277",
        "colab": {
          "base_uri": "https://localhost:8080/",
          "height": 410
        }
      },
      "cell_type": "code",
      "source": [
        "preds = model.predict(X_test_n[:10])\n",
        "show_images(X_test_n[:10])\n",
        "show_images(preds)\n",
        "show_images(X_test[:10])"
      ],
      "execution_count": 18,
      "outputs": [
        {
          "output_type": "display_data",
          "data": {
            "image/png": "[encoded data removed]",
            "text/plain": [
              "<Figure size 720x360 with 5 Axes>"
            ]
          },
          "metadata": {
            "tags": []
          }
        },
        {
          "output_type": "display_data",
          "data": {
            "image/png": "[encoded data removed]",
            "text/plain": [
              "<Figure size 720x360 with 5 Axes>"
            ]
          },
          "metadata": {
            "tags": []
          }
        },
        {
          "output_type": "display_data",
          "data": {
            "image/png": "[encoded data removed]",
            "text/plain": [
              "<Figure size 720x360 with 5 Axes>"
            ]
          },
          "metadata": {
            "tags": []
          }
        }
      ]
    }
  ]
}