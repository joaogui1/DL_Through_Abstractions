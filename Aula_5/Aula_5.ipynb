{
  "nbformat": 4,
  "nbformat_minor": 0,
  "metadata": {
    "colab": {
      "name": "Aula_5.ipynb",
      "version": "0.3.2",
      "provenance": [],
      "collapsed_sections": []
    },
    "kernelspec": {
      "name": "python3",
      "display_name": "Python 3"
    },
    "accelerator": "GPU"
  },
  "cells": [
    {
      "metadata": {
        "id": "t1Sbba3GnwU2",
        "colab_type": "code",
        "colab": {
          "base_uri": "https://localhost:8080/",
          "height": 35
        },
        "outputId": "6a0ab8c9-b8b3-403b-f577-70354b39507d"
      },
      "cell_type": "code",
      "source": [
        "import numpy as np\n",
        "\n",
        "from keras.models import Sequential\n",
        "from keras.layers import Dense\n",
        "from keras.datasets import mnist"
      ],
      "execution_count": 1,
      "outputs": [
        {
          "output_type": "stream",
          "text": [
            "Using TensorFlow backend.\n"
          ],
          "name": "stderr"
        }
      ]
    },
    {
      "metadata": {
        "id": "9TsJBN2joOpj",
        "colab_type": "code",
        "colab": {
          "base_uri": "https://localhost:8080/",
          "height": 53
        },
        "outputId": "cf056fb4-0dab-4561-8159-a3114ab1b345"
      },
      "cell_type": "code",
      "source": [
        "(x_train, y_train), (x_test, y_test) = mnist.load_data()"
      ],
      "execution_count": 3,
      "outputs": [
        {
          "output_type": "stream",
          "text": [
            "Downloading data from https://s3.amazonaws.com/img-datasets/mnist.npz\n",
            "11493376/11490434 [==============================] - 0s 0us/step\n"
          ],
          "name": "stdout"
        }
      ]
    },
    {
      "metadata": {
        "id": "4LMRq-78ogA2",
        "colab_type": "code",
        "colab": {}
      },
      "cell_type": "code",
      "source": [
        "from keras.utils import to_categorical"
      ],
      "execution_count": 0,
      "outputs": []
    },
    {
      "metadata": {
        "id": "ZTg63s18pKca",
        "colab_type": "code",
        "colab": {}
      },
      "cell_type": "code",
      "source": [
        "y_train = to_categorical(y_train)\n",
        "y_test = to_categorical(y_test)"
      ],
      "execution_count": 0,
      "outputs": []
    },
    {
      "metadata": {
        "id": "7VNL2SaFpZpR",
        "colab_type": "code",
        "colab": {}
      },
      "cell_type": "code",
      "source": [
        "x_train = x_train.astype(np.float32)/255.0\n",
        "x_test = x_test.astype(np.float32)/255.0"
      ],
      "execution_count": 0,
      "outputs": []
    },
    {
      "metadata": {
        "id": "08SkEOn4qJqa",
        "colab_type": "code",
        "colab": {}
      },
      "cell_type": "code",
      "source": [
        "x_train = x_train.reshape(60000, 784)\n",
        "x_test = x_test.reshape(10000, 784)"
      ],
      "execution_count": 0,
      "outputs": []
    },
    {
      "metadata": {
        "id": "y3IGjTotpvXn",
        "colab_type": "code",
        "colab": {}
      },
      "cell_type": "code",
      "source": [
        "mlp = Sequential()\n",
        "mlp.add(Dense(units=64, activation='relu', input_shape=(784, )))\n",
        "mlp.add(Dense(units=32, activation='relu'))\n",
        "mlp.add(Dense(units=10, activation='softmax'))"
      ],
      "execution_count": 0,
      "outputs": []
    },
    {
      "metadata": {
        "id": "qnJinGFNq59K",
        "colab_type": "code",
        "colab": {}
      },
      "cell_type": "code",
      "source": [
        "mlp.compile(loss=\"categorical_crossentropy\", optimizer=\"adam\", metrics=['accuracy'])"
      ],
      "execution_count": 0,
      "outputs": []
    },
    {
      "metadata": {
        "id": "FNhCkZ1Jr79h",
        "colab_type": "code",
        "colab": {
          "base_uri": "https://localhost:8080/",
          "height": 253
        },
        "outputId": "e91d814e-5775-40a0-fa07-25e1a5bc8e98"
      },
      "cell_type": "code",
      "source": [
        "mlp.fit(x_train, y_train, validation_data=(x_test, y_test),epochs=5, batch_size=32)"
      ],
      "execution_count": 29,
      "outputs": [
        {
          "output_type": "stream",
          "text": [
            "Train on 60000 samples, validate on 10000 samples\n",
            "Epoch 1/5\n",
            "60000/60000 [==============================] - 9s 147us/step - loss: 0.2884 - acc: 0.9165 - val_loss: 0.1606 - val_acc: 0.9515\n",
            "Epoch 2/5\n",
            "60000/60000 [==============================] - 9s 144us/step - loss: 0.1302 - acc: 0.9615 - val_loss: 0.1189 - val_acc: 0.9621\n",
            "Epoch 3/5\n",
            "60000/60000 [==============================] - 9s 143us/step - loss: 0.0958 - acc: 0.9703 - val_loss: 0.1006 - val_acc: 0.9681\n",
            "Epoch 4/5\n",
            "60000/60000 [==============================] - 9s 142us/step - loss: 0.0767 - acc: 0.9762 - val_loss: 0.1108 - val_acc: 0.9664\n",
            "Epoch 5/5\n",
            "60000/60000 [==============================] - 9s 142us/step - loss: 0.0639 - acc: 0.9796 - val_loss: 0.0935 - val_acc: 0.9715\n"
          ],
          "name": "stdout"
        },
        {
          "output_type": "execute_result",
          "data": {
            "text/plain": [
              "<keras.callbacks.History at 0x7fceb3c94470>"
            ]
          },
          "metadata": {
            "tags": []
          },
          "execution_count": 29
        }
      ]
    },
    {
      "metadata": {
        "id": "xXktYds90BqA",
        "colab_type": "code",
        "colab": {}
      },
      "cell_type": "code",
      "source": [
        "from keras.layers import Dropout"
      ],
      "execution_count": 0,
      "outputs": []
    },
    {
      "metadata": {
        "id": "tUBDHmn_0AVq",
        "colab_type": "code",
        "colab": {}
      },
      "cell_type": "code",
      "source": [
        "mlp = Sequential()\n",
        "mlp.add(Dense(units=64, activation='relu', input_shape=(784, )))\n",
        "mlp.add(Dropout(0.1))\n",
        "mlp.add(Dense(units=32, activation='relu'))\n",
        "mlp.add(Dropout(0.2))\n",
        "mlp.add(Dense(units=10, activation='softmax'))"
      ],
      "execution_count": 0,
      "outputs": []
    },
    {
      "metadata": {
        "id": "cKnKQwG61fW_",
        "colab_type": "code",
        "colab": {}
      },
      "cell_type": "code",
      "source": [
        "mlp.compile(loss=\"categorical_crossentropy\", optimizer=\"adam\", metrics=['accuracy'])"
      ],
      "execution_count": 0,
      "outputs": []
    },
    {
      "metadata": {
        "id": "guCCOg9Q1gCL",
        "colab_type": "code",
        "colab": {}
      },
      "cell_type": "code",
      "source": [
        "mlp.fit(x_train, y_train, validation_data=(x_test, y_test),epochs=15, batch_size=32)"
      ],
      "execution_count": 0,
      "outputs": []
    },
    {
      "metadata": {
        "id": "oge5TOVF1i1W",
        "colab_type": "code",
        "colab": {}
      },
      "cell_type": "code",
      "source": [
        "from keras.callbacks import ModelCheckpoint, EarlyStopping"
      ],
      "execution_count": 0,
      "outputs": []
    },
    {
      "metadata": {
        "id": "sU3KIu2T2eE8",
        "colab_type": "code",
        "colab": {}
      },
      "cell_type": "code",
      "source": [
        "checkpoint = ModelCheckpoint(\"weights-improvement-{epoch:02d}-{val_acc:.2f}.hdf5\", monitor='val_acc', verbose=1, save_best_only=True, mode='max')\n",
        "es = EarlyStopping(monitor='val_loss', mode='min', verbose=1, patience=5)\n",
        "callbacks = [es, checkpoint]"
      ],
      "execution_count": 0,
      "outputs": []
    },
    {
      "metadata": {
        "id": "Z98df5IO3cQc",
        "colab_type": "code",
        "colab": {
          "base_uri": "https://localhost:8080/",
          "height": 1027
        },
        "outputId": "d64241cf-d1e0-4d04-b056-80f0299fb474"
      },
      "cell_type": "code",
      "source": [
        "mlp.fit(x_train, y_train, validation_data=(x_test, y_test),epochs=15, batch_size=32, callbacks=callbacks)"
      ],
      "execution_count": 40,
      "outputs": [
        {
          "output_type": "stream",
          "text": [
            "Train on 60000 samples, validate on 10000 samples\n",
            "Epoch 1/15\n",
            "60000/60000 [==============================] - 10s 160us/step - loss: 0.4235 - acc: 0.8733 - val_loss: 0.1704 - val_acc: 0.9485\n",
            "\n",
            "Epoch 00001: val_acc improved from -inf to 0.94850, saving model to weights-improvement-01-0.95.hdf5\n",
            "Epoch 2/15\n",
            "60000/60000 [==============================] - 9s 153us/step - loss: 0.2063 - acc: 0.9389 - val_loss: 0.1268 - val_acc: 0.9618\n",
            "\n",
            "Epoch 00002: val_acc improved from 0.94850 to 0.96180, saving model to weights-improvement-02-0.96.hdf5\n",
            "Epoch 3/15\n",
            "60000/60000 [==============================] - 9s 153us/step - loss: 0.1623 - acc: 0.9527 - val_loss: 0.1087 - val_acc: 0.9673\n",
            "\n",
            "Epoch 00003: val_acc improved from 0.96180 to 0.96730, saving model to weights-improvement-03-0.97.hdf5\n",
            "Epoch 4/15\n",
            "60000/60000 [==============================] - 9s 153us/step - loss: 0.1362 - acc: 0.9589 - val_loss: 0.1075 - val_acc: 0.9696\n",
            "\n",
            "Epoch 00004: val_acc improved from 0.96730 to 0.96960, saving model to weights-improvement-04-0.97.hdf5\n",
            "Epoch 5/15\n",
            "60000/60000 [==============================] - 9s 153us/step - loss: 0.1244 - acc: 0.9628 - val_loss: 0.0949 - val_acc: 0.9711\n",
            "\n",
            "Epoch 00005: val_acc improved from 0.96960 to 0.97110, saving model to weights-improvement-05-0.97.hdf5\n",
            "Epoch 6/15\n",
            "60000/60000 [==============================] - 9s 155us/step - loss: 0.1129 - acc: 0.9659 - val_loss: 0.0933 - val_acc: 0.9721\n",
            "\n",
            "Epoch 00006: val_acc improved from 0.97110 to 0.97210, saving model to weights-improvement-06-0.97.hdf5\n",
            "Epoch 7/15\n",
            "60000/60000 [==============================] - 9s 155us/step - loss: 0.1025 - acc: 0.9688 - val_loss: 0.0909 - val_acc: 0.9737\n",
            "\n",
            "Epoch 00007: val_acc improved from 0.97210 to 0.97370, saving model to weights-improvement-07-0.97.hdf5\n",
            "Epoch 8/15\n",
            "60000/60000 [==============================] - 9s 155us/step - loss: 0.0965 - acc: 0.9706 - val_loss: 0.0839 - val_acc: 0.9753\n",
            "\n",
            "Epoch 00008: val_acc improved from 0.97370 to 0.97530, saving model to weights-improvement-08-0.98.hdf5\n",
            "Epoch 9/15\n",
            "60000/60000 [==============================] - 9s 154us/step - loss: 0.0917 - acc: 0.9725 - val_loss: 0.0876 - val_acc: 0.9738\n",
            "\n",
            "Epoch 00009: val_acc did not improve from 0.97530\n",
            "Epoch 10/15\n",
            "60000/60000 [==============================] - 9s 154us/step - loss: 0.0844 - acc: 0.9734 - val_loss: 0.0901 - val_acc: 0.9748\n",
            "\n",
            "Epoch 00010: val_acc did not improve from 0.97530\n",
            "Epoch 11/15\n",
            "60000/60000 [==============================] - 9s 153us/step - loss: 0.0819 - acc: 0.9752 - val_loss: 0.0919 - val_acc: 0.9755\n",
            "\n",
            "Epoch 00011: val_acc improved from 0.97530 to 0.97550, saving model to weights-improvement-11-0.98.hdf5\n",
            "Epoch 12/15\n",
            "60000/60000 [==============================] - 9s 154us/step - loss: 0.0793 - acc: 0.9757 - val_loss: 0.0905 - val_acc: 0.9743\n",
            "\n",
            "Epoch 00012: val_acc did not improve from 0.97550\n",
            "Epoch 13/15\n",
            "60000/60000 [==============================] - 9s 154us/step - loss: 0.0749 - acc: 0.9769 - val_loss: 0.0908 - val_acc: 0.9737\n",
            "\n",
            "Epoch 00013: val_acc did not improve from 0.97550\n",
            "Epoch 00013: early stopping\n"
          ],
          "name": "stdout"
        },
        {
          "output_type": "execute_result",
          "data": {
            "text/plain": [
              "<keras.callbacks.History at 0x7fceb31dc400>"
            ]
          },
          "metadata": {
            "tags": []
          },
          "execution_count": 40
        }
      ]
    },
    {
      "metadata": {
        "id": "DaIO3SVK7o_-",
        "colab_type": "code",
        "colab": {}
      },
      "cell_type": "code",
      "source": [
        "from keras.layers import Flatten, Conv2D, MaxPooling2D"
      ],
      "execution_count": 0,
      "outputs": []
    },
    {
      "metadata": {
        "id": "E__KjV8U8bGB",
        "colab_type": "code",
        "colab": {}
      },
      "cell_type": "code",
      "source": [
        "x_train = x_train.reshape(-1, 28, 28, 1)\n",
        "x_test = x_test.reshape(-1, 28, 28, 1)"
      ],
      "execution_count": 0,
      "outputs": []
    },
    {
      "metadata": {
        "id": "g9KO-Z4j8Heo",
        "colab_type": "code",
        "colab": {}
      },
      "cell_type": "code",
      "source": [
        "cnn = Sequential()\n",
        "cnn.add(Conv2D(32, kernel_size=3, strides=(1,1), padding='same', activation='relu', input_shape=(28, 28, 1)))\n",
        "cnn.add(MaxPooling2D(pool_size=(2, 2), strides=(2, 2)))\n",
        "cnn.add(Conv2D(64, kernel_size=3, strides=(1,1), padding='same', activation='relu'))\n",
        "cnn.add(MaxPooling2D(pool_size=(2, 2), strides=(2, 2)))\n",
        "cnn.add(Flatten())\n",
        "cnn.add(Dense(32, activation='relu'))\n",
        "cnn.add(Dense(10, activation='softmax'))"
      ],
      "execution_count": 0,
      "outputs": []
    },
    {
      "metadata": {
        "id": "2ugxRy3O96MW",
        "colab_type": "code",
        "colab": {}
      },
      "cell_type": "code",
      "source": [
        "cnn.compile(loss=\"categorical_crossentropy\", optimizer=\"adam\", metrics=['accuracy'])"
      ],
      "execution_count": 0,
      "outputs": []
    },
    {
      "metadata": {
        "id": "rHts5nZF-Gz5",
        "colab_type": "code",
        "colab": {
          "base_uri": "https://localhost:8080/",
          "height": 253
        },
        "outputId": "e157f79b-0151-42a7-f7f8-510d73956e4e"
      },
      "cell_type": "code",
      "source": [
        "cnn.fit(x_train, y_train, validation_data=(x_test, y_test),epochs=5, batch_size=32)"
      ],
      "execution_count": 47,
      "outputs": [
        {
          "output_type": "stream",
          "text": [
            "Train on 60000 samples, validate on 10000 samples\n",
            "Epoch 1/5\n",
            "60000/60000 [==============================] - 17s 287us/step - loss: 0.1471 - acc: 0.9553 - val_loss: 0.0464 - val_acc: 0.9840\n",
            "Epoch 2/5\n",
            "60000/60000 [==============================] - 15s 243us/step - loss: 0.0470 - acc: 0.9853 - val_loss: 0.0380 - val_acc: 0.9868\n",
            "Epoch 3/5\n",
            "60000/60000 [==============================] - 15s 244us/step - loss: 0.0339 - acc: 0.9893 - val_loss: 0.0260 - val_acc: 0.9918\n",
            "Epoch 4/5\n",
            "60000/60000 [==============================] - 14s 241us/step - loss: 0.0244 - acc: 0.9923 - val_loss: 0.0617 - val_acc: 0.9815\n",
            "Epoch 5/5\n",
            "60000/60000 [==============================] - 14s 241us/step - loss: 0.0191 - acc: 0.9940 - val_loss: 0.0266 - val_acc: 0.9908\n"
          ],
          "name": "stdout"
        },
        {
          "output_type": "execute_result",
          "data": {
            "text/plain": [
              "<keras.callbacks.History at 0x7fceb2d65da0>"
            ]
          },
          "metadata": {
            "tags": []
          },
          "execution_count": 47
        }
      ]
    },
    {
      "metadata": {
        "id": "p0LccyWU-R3k",
        "colab_type": "code",
        "colab": {}
      },
      "cell_type": "code",
      "source": [
        "from keras.layers import BatchNormalization, Activation"
      ],
      "execution_count": 0,
      "outputs": []
    },
    {
      "metadata": {
        "id": "vNfD9IZcBIwz",
        "colab_type": "code",
        "colab": {}
      },
      "cell_type": "code",
      "source": [
        "cnn = Sequential()\n",
        "cnn.add(Conv2D(32, kernel_size=3, strides=(1,1), padding='same', input_shape=(28, 28, 1)))\n",
        "cnn.add(BatchNormalization())\n",
        "cnn.add(Activation('relu'))\n",
        "cnn.add(MaxPooling2D(pool_size=(2, 2), strides=(2, 2)))\n",
        "cnn.add(Conv2D(64, kernel_size=3, strides=(1,1), padding='same'))\n",
        "cnn.add(BatchNormalization())\n",
        "cnn.add(Activation('relu'))\n",
        "cnn.add(MaxPooling2D(pool_size=(2, 2), strides=(2, 2)))\n",
        "cnn.add(Flatten())\n",
        "cnn.add(Dense(32, activation='relu'))\n",
        "cnn.add(Dense(10, activation='softmax'))"
      ],
      "execution_count": 0,
      "outputs": []
    },
    {
      "metadata": {
        "id": "9q2lz1WCBdH7",
        "colab_type": "code",
        "colab": {}
      },
      "cell_type": "code",
      "source": [
        "cnn.compile(loss=\"categorical_crossentropy\", optimizer=\"adam\", metrics=['accuracy'])"
      ],
      "execution_count": 0,
      "outputs": []
    },
    {
      "metadata": {
        "id": "Lrrk42-uBiFT",
        "colab_type": "code",
        "colab": {}
      },
      "cell_type": "code",
      "source": [
        "cnn.fit(x_train, y_train, validation_data=(x_test, y_test),epochs=5, batch_size=32)"
      ],
      "execution_count": 0,
      "outputs": []
    },
    {
      "metadata": {
        "id": "XICFjwytBkN1",
        "colab_type": "code",
        "colab": {}
      },
      "cell_type": "code",
      "source": [
        "!pip install kaggle"
      ],
      "execution_count": 0,
      "outputs": []
    },
    {
      "metadata": {
        "id": "e6iQihDFBpLb",
        "colab_type": "code",
        "colab": {}
      },
      "cell_type": "code",
      "source": [
        "from google.colab import files\n",
        "files.upload()"
      ],
      "execution_count": 0,
      "outputs": []
    },
    {
      "metadata": {
        "id": "VA1ZDSlHCbOU",
        "colab_type": "code",
        "colab": {}
      },
      "cell_type": "code",
      "source": [
        "!mkdir -p ~/.kaggle\n",
        "!cp kaggle.json ~/.kaggle/\n",
        "!chmod 600 ~/.kaggle/kaggle.json\n",
        "!kaggle competitions download digit-recognizer"
      ],
      "execution_count": 0,
      "outputs": []
    },
    {
      "metadata": {
        "id": "fyry_ZKaCmP9",
        "colab_type": "code",
        "colab": {}
      },
      "cell_type": "code",
      "source": [
        "import pandas as pd\n"
      ],
      "execution_count": 0,
      "outputs": []
    },
    {
      "metadata": {
        "id": "W4akBsN_DXz5",
        "colab_type": "code",
        "colab": {}
      },
      "cell_type": "code",
      "source": [
        "df_train = pd.read_csv(\"train.csv\")\n",
        "x_train = df_train.loc[:, 'pixel0':]\n",
        "y_train = df_train['label'] "
      ],
      "execution_count": 0,
      "outputs": []
    },
    {
      "metadata": {
        "id": "kkVvIvm1Dyaa",
        "colab_type": "code",
        "colab": {}
      },
      "cell_type": "code",
      "source": [
        "y_train = to_categorical(y_train)\n",
        "x_train = np.array(x_train, dtype=np.float32)"
      ],
      "execution_count": 0,
      "outputs": []
    },
    {
      "metadata": {
        "id": "nvqESKUVEKmO",
        "colab_type": "code",
        "colab": {}
      },
      "cell_type": "code",
      "source": [
        "x_train = x_train.reshape(-1, 28, 28, 1)/255.0"
      ],
      "execution_count": 0,
      "outputs": []
    },
    {
      "metadata": {
        "id": "ntVzI9T9ERdd",
        "colab_type": "code",
        "colab": {}
      },
      "cell_type": "code",
      "source": [
        "cnn = Sequential()\n",
        "cnn.add(Conv2D(32, kernel_size=3, strides=(1,1), padding='same', input_shape=(28, 28, 1)))\n",
        "cnn.add(BatchNormalization())\n",
        "cnn.add(Activation('relu'))\n",
        "cnn.add(MaxPooling2D(pool_size=(2, 2), strides=(2, 2)))\n",
        "cnn.add(Conv2D(64, kernel_size=3, strides=(1,1), padding='same'))\n",
        "cnn.add(BatchNormalization())\n",
        "cnn.add(Activation('relu'))\n",
        "cnn.add(MaxPooling2D(pool_size=(2, 2), strides=(2, 2)))\n",
        "cnn.add(Flatten())\n",
        "cnn.add(Dense(32, activation='relu'))\n",
        "cnn.add(Dense(10, activation='softmax'))\n",
        "cnn.compile(loss=\"categorical_crossentropy\", optimizer=\"adam\", metrics=['accuracy'])"
      ],
      "execution_count": 0,
      "outputs": []
    },
    {
      "metadata": {
        "id": "rlfgLH9PEZey",
        "colab_type": "code",
        "colab": {}
      },
      "cell_type": "code",
      "source": [
        "cnn.fit(x_train, y_train,epochs=5, batch_size=32)"
      ],
      "execution_count": 0,
      "outputs": []
    },
    {
      "metadata": {
        "id": "xxYlGxDXEeww",
        "colab_type": "code",
        "colab": {}
      },
      "cell_type": "code",
      "source": [
        "X_test = np.array(pd.read_csv(\"test.csv\"), dtype=np.float32).reshape(28000, 28, 28, 1)\n",
        "X_test / 255.0\n",
        "predictions = cnn.predict(X_test)"
      ],
      "execution_count": 0,
      "outputs": []
    },
    {
      "metadata": {
        "id": "Mfs9GU8WE9-j",
        "colab_type": "code",
        "colab": {}
      },
      "cell_type": "code",
      "source": [
        "predictions = np.argmax(predictions, axis=1)"
      ],
      "execution_count": 0,
      "outputs": []
    },
    {
      "metadata": {
        "id": "9N8KHw9IFHlO",
        "colab_type": "code",
        "colab": {}
      },
      "cell_type": "code",
      "source": [
        "attempt = pd.DataFrame(predictions, index=np.arange(1, 28001), columns=['Label'])"
      ],
      "execution_count": 0,
      "outputs": []
    },
    {
      "metadata": {
        "id": "xzsFpxXnFPi2",
        "colab_type": "code",
        "colab": {}
      },
      "cell_type": "code",
      "source": [
        "attempt.to_csv('attempt.csv')\n",
        "files.download('attempt.csv')"
      ],
      "execution_count": 0,
      "outputs": []
    }
  ]
}