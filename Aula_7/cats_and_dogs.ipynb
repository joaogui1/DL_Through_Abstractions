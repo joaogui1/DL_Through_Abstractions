{
  "nbformat": 4,
  "nbformat_minor": 0,
  "metadata": {
    "colab": {
      "name": "cats_and_dogs.ipynb",
      "version": "0.3.2",
      "provenance": [],
      "collapsed_sections": []
    },
    "kernelspec": {
      "name": "python3",
      "display_name": "Python 3"
    },
    "accelerator": "GPU"
  },
  "cells": [
    {
      "metadata": {
        "id": "wKNhnWRgcK2L",
        "colab_type": "code",
        "colab": {}
      },
      "cell_type": "code",
      "source": [
        "!pip install kaggle\n",
        "import os\n",
        "from google.colab import files\n",
        "files.upload()"
      ],
      "execution_count": 0,
      "outputs": []
    },
    {
      "metadata": {
        "id": "mKnb234eCsJO",
        "colab_type": "code",
        "colab": {}
      },
      "cell_type": "code",
      "source": [
        "!mkdir .kaggle \n",
        "!mv kaggle.json .kaggle\n",
        "!kaggle competitions download -c dogs-vs-cats"
      ],
      "execution_count": 0,
      "outputs": []
    },
    {
      "metadata": {
        "id": "Gqkq3toZEuDx",
        "colab_type": "code",
        "colab": {}
      },
      "cell_type": "code",
      "source": [
        "!unzip train.zip"
      ],
      "execution_count": 0,
      "outputs": []
    },
    {
      "metadata": {
        "id": "EwzJDNc8GAxD",
        "colab_type": "code",
        "colab": {}
      },
      "cell_type": "code",
      "source": [
        "!mkdir -p data/train/cats\n",
        "!mkdir    data/train/dogs\n",
        "!mkdir -p data/validation/cats\n",
        "!mkdir    data/validation/dogs"
      ],
      "execution_count": 0,
      "outputs": []
    },
    {
      "metadata": {
        "id": "5Ae1UFaRLflJ",
        "colab_type": "code",
        "colab": {}
      },
      "cell_type": "code",
      "source": [
        "for i in range(1000):\n",
        "  os.rename(f\"train/cat.{i}.jpg\", f\"data/train/cats/cat.{i + 1}.jpg\")\n",
        "\n",
        "for i in range(1000, 1400):\n",
        "  os.rename(f\"train/cat.{i}.jpg\", f\"data/validation/cats/cat.{i + 1 - 1000}.jpg\")"
      ],
      "execution_count": 0,
      "outputs": []
    },
    {
      "metadata": {
        "id": "NHtVkHe7HL6T",
        "colab_type": "code",
        "colab": {}
      },
      "cell_type": "code",
      "source": [
        "for i in range(12500, 13500):\n",
        "  os.rename(f\"train/dog.{i}.jpg\", f\"data/train/dogs/dog.{i + 1 - 12500}.jpg\")\n",
        "for i in range(12100, 12500):\n",
        "  os.rename(f\"train/dog.{i}.jpg\", f\"data/validation/dogs/dog.{i + 1 - 12100}.jpg\")"
      ],
      "execution_count": 0,
      "outputs": []
    }
  ]
}