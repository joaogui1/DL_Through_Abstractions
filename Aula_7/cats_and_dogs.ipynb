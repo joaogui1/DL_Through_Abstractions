{
  "nbformat": 4,
  "nbformat_minor": 0,
  "metadata": {
    "colab": {
      "name": "cats_and_dogs.ipynb",
      "version": "0.3.2",
      "provenance": [],
      "collapsed_sections": []
    },
    "kernelspec": {
      "name": "python3",
      "display_name": "Python 3"
    },
    "accelerator": "GPU"
  },
  "cells": [
    {
      "metadata": {
        "id": "wKNhnWRgcK2L",
        "colab_type": "code",
        "colab": {}
      },
      "cell_type": "code",
      "source": [
        "!pip install kaggle\n",
        "import os\n",
        "import numpy as np\n",
        "from google.colab import files\n",
        "files.upload()"
      ],
      "execution_count": 0,
      "outputs": []
    },
    {
      "metadata": {
        "id": "mKnb234eCsJO",
        "colab_type": "code",
        "colab": {}
      },
      "cell_type": "code",
      "source": [
        "!mkdir /root/.kaggle \n",
        "!mv kaggle.json /root/.kaggle\n",
        "!kaggle competitions download -c dogs-vs-cats"
      ],
      "execution_count": 0,
      "outputs": []
    },
    {
      "metadata": {
        "id": "Gqkq3toZEuDx",
        "colab_type": "code",
        "colab": {}
      },
      "cell_type": "code",
      "source": [
        "lap!unzip train.zip"
      ],
      "execution_count": 0,
      "outputs": []
    },
    {
      "metadata": {
        "id": "EwzJDNc8GAxD",
        "colab_type": "code",
        "colab": {}
      },
      "cell_type": "code",
      "source": [
        "!mkdir -p data/train/cats\n",
        "!mkdir    data/train/dogs\n",
        "!mkdir -p data/validation/cats\n",
        "!mkdir    data/validation/dogs"
      ],
      "execution_count": 0,
      "outputs": []
    },
    {
      "metadata": {
        "id": "5Ae1UFaRLflJ",
        "colab_type": "code",
        "colab": {}
      },
      "cell_type": "code",
      "source": [
        "for i in range(1000):\n",
        "  os.rename(f\"train/cat.{i}.jpg\", f\"data/train/cats/cat.{i + 1}.jpg\")\n",
        "\n",
        "for i in range(1000, 1400):\n",
        "  os.rename(f\"train/cat.{i}.jpg\", f\"data/validation/cats/cat.{i + 1 - 1000}.jpg\")"
      ],
      "execution_count": 0,
      "outputs": []
    },
    {
      "metadata": {
        "id": "NHtVkHe7HL6T",
        "colab_type": "code",
        "outputId": "f782c961-8e9f-4cb6-aefe-30ec4a14612e",
        "colab": {
          "base_uri": "https://localhost:8080/",
          "height": 244
        }
      },
      "cell_type": "code",
      "source": [
        "for i in range(11100, 12100):\n",
        "  os.rename(f\"train/dog.{i}.jpg\", f\"data/train/dogs/dog.{i + 1 - 12500}.jpg\")\n",
        "  \n",
        "for i in range(12100, 12500):\n",
        "  os.rename(f\"train/dog.{i}.jpg\", f\"data/validation/dogs/dog.{i + 1 - 12100}.jpg\")"
      ],
      "execution_count": 0,
      "outputs": [
        {
          "output_type": "error",
          "ename": "FileNotFoundError",
          "evalue": "ignored",
          "traceback": [
            "\u001b[0;31m---------------------------------------------------------------------------\u001b[0m",
            "\u001b[0;31mFileNotFoundError\u001b[0m                         Traceback (most recent call last)",
            "\u001b[0;32m<ipython-input-14-dca9e5989be7>\u001b[0m in \u001b[0;36m<module>\u001b[0;34m()\u001b[0m\n\u001b[1;32m      1\u001b[0m \u001b[0;32mfor\u001b[0m \u001b[0mi\u001b[0m \u001b[0;32min\u001b[0m \u001b[0mrange\u001b[0m\u001b[0;34m(\u001b[0m\u001b[0;36m12500\u001b[0m\u001b[0;34m,\u001b[0m \u001b[0;36m13500\u001b[0m\u001b[0;34m)\u001b[0m\u001b[0;34m:\u001b[0m\u001b[0;34m\u001b[0m\u001b[0;34m\u001b[0m\u001b[0m\n\u001b[0;32m----> 2\u001b[0;31m   \u001b[0mos\u001b[0m\u001b[0;34m.\u001b[0m\u001b[0mrename\u001b[0m\u001b[0;34m(\u001b[0m\u001b[0;34mf\"train/dog.{i}.jpg\"\u001b[0m\u001b[0;34m,\u001b[0m \u001b[0;34mf\"data/train/dogs/dog.{i + 1 - 12500}.jpg\"\u001b[0m\u001b[0;34m)\u001b[0m\u001b[0;34m\u001b[0m\u001b[0;34m\u001b[0m\u001b[0m\n\u001b[0m\u001b[1;32m      3\u001b[0m \u001b[0;34m\u001b[0m\u001b[0m\n\u001b[1;32m      4\u001b[0m \u001b[0;32mfor\u001b[0m \u001b[0mi\u001b[0m \u001b[0;32min\u001b[0m \u001b[0mrange\u001b[0m\u001b[0;34m(\u001b[0m\u001b[0;36m12100\u001b[0m\u001b[0;34m,\u001b[0m \u001b[0;36m12500\u001b[0m\u001b[0;34m)\u001b[0m\u001b[0;34m:\u001b[0m\u001b[0;34m\u001b[0m\u001b[0;34m\u001b[0m\u001b[0m\n\u001b[1;32m      5\u001b[0m   \u001b[0mos\u001b[0m\u001b[0;34m.\u001b[0m\u001b[0mrename\u001b[0m\u001b[0;34m(\u001b[0m\u001b[0;34mf\"train/dog.{i}.jpg\"\u001b[0m\u001b[0;34m,\u001b[0m \u001b[0;34mf\"data/validation/dogs/dog.{i + 1 - 12100}.jpg\"\u001b[0m\u001b[0;34m)\u001b[0m\u001b[0;34m\u001b[0m\u001b[0;34m\u001b[0m\u001b[0m\n",
            "\u001b[0;31mFileNotFoundError\u001b[0m: [Errno 2] No such file or directory: 'train/dog.12500.jpg' -> 'data/train/dogs/dog.1.jpg'"
          ]
        }
      ]
    },
    {
      "metadata": {
        "id": "6dawE6p2PSXp",
        "colab_type": "code",
        "colab": {}
      },
      "cell_type": "code",
      "source": [
        "from keras.preprocessing.image import ImageDataGenerator\n",
        "from keras.models import Sequential\n",
        "from keras import optimizers\n",
        "from keras.layers import Conv2D, MaxPooling2D\n",
        "from keras.layers import Activation, Dropout, Flatten, Dense, Input\n",
        "from keras import Model"
      ],
      "execution_count": 0,
      "outputs": []
    },
    {
      "metadata": {
        "id": "T898kKZKPS3h",
        "colab_type": "code",
        "colab": {}
      },
      "cell_type": "code",
      "source": [
        "img_width, img_height = 150, 150\n",
        "\n",
        "train_data_dir = 'data/train'\n",
        "validation_data_dir = 'data/validation'\n",
        "nb_train_samples = 2000\n",
        "nb_validation_samples = 800\n",
        "epochs = 50\n",
        "batch_size = 16"
      ],
      "execution_count": 0,
      "outputs": []
    },
    {
      "metadata": {
        "id": "GZUL3sE3PVZ5",
        "colab_type": "code",
        "outputId": "58609785-5fe9-41b0-bfcc-fb238d569de5",
        "colab": {
          "base_uri": "https://localhost:8080/",
          "height": 145
        }
      },
      "cell_type": "code",
      "source": [
        "model = Sequential()\n",
        "model.add(Conv2D(32, (3, 3), input_shape=(img_width, img_height, 3)))\n",
        "model.add(Activation('relu'))\n",
        "model.add(MaxPooling2D(pool_psize=(2, 2)))\n",
        "\n",
        "model.add(Conv2D(32, (3, 3)))\n",
        "model.add(Activation('relu'))\n",
        "model.add(MaxPooling2D(pool_size=(2, 2)))\n",
        "\n",
        "model.add(Conv2D(64, (3, 3)))\n",
        "model.add(Activation('relu'))\n",
        "model.add(MaxPooling2D(pool_size=(2, 2)))\n",
        "\n",
        "model.add(Flatten())\n",
        "model.add(Dense(64))\n",
        "model.add(Activation('relu'))\n",
        "model.add(Dropout(0.5))\n",
        "model.add(Dense(1))\n",
        "model.add(Activation('sigmoid'))\n",
        "\n",
        "model.compile(loss='binary_crossentropy', optimizer='rmsprop', metrics=['accuracy'])"
      ],
      "execution_count": 0,
      "outputs": [
        {
          "output_type": "stream",
          "text": [
            "WARNING:tensorflow:From /usr/local/lib/python3.6/dist-packages/tensorflow/python/framework/op_def_library.py:263: colocate_with (from tensorflow.python.framework.ops) is deprecated and will be removed in a future version.\n",
            "Instructions for updating:\n",
            "Colocations handled automatically by placer.\n",
            "WARNING:tensorflow:From /usr/local/lib/python3.6/dist-packages/keras/backend/tensorflow_backend.py:3445: calling dropout (from tensorflow.python.ops.nn_ops) with keep_prob is deprecated and will be removed in a future version.\n",
            "Instructions for updating:\n",
            "Please use `rate` instead of `keep_prob`. Rate should be set to `rate = 1 - keep_prob`.\n"
          ],
          "name": "stdout"
        }
      ]
    },
    {
      "metadata": {
        "id": "CK13graqPghX",
        "colab_type": "code",
        "outputId": "50868c79-3764-4d9a-f810-cd1f8637cb2b",
        "colab": {
          "base_uri": "https://localhost:8080/",
          "height": 53
        }
      },
      "cell_type": "code",
      "source": [
        "train_datagen = ImageDataGenerator(\n",
        "    rescale=1. / 255,\n",
        "    shear_range=0.2,\n",
        "    zoom_range=0.2,\n",
        "    horizontal_flip=True)\n",
        "\n",
        "# this is the augmentation configuration we will use for testing:\n",
        "# only rescaling\n",
        "test_datagen = ImageDataGenerator(rescale=1. / 255)\n",
        "\n",
        "train_generator = train_datagen.flow_from_directory(\n",
        "    train_data_dir,\n",
        "    target_size=(img_width, img_height),\n",
        "    batch_size=batch_size,\n",
        "    class_mode='binary')\n",
        "\n",
        "validation_generator = test_datagen.flow_from_directory(\n",
        "    validation_data_dir,\n",
        "    target_size=(img_width, img_height),\n",
        "    batch_size=batch_size,\n",
        "    class_mode='binary')"
      ],
      "execution_count": 0,
      "outputs": [
        {
          "output_type": "stream",
          "text": [
            "Found 2000 images belonging to 2 classes.\n",
            "Found 800 images belonging to 2 classes.\n"
          ],
          "name": "stdout"
        }
      ]
    },
    {
      "metadata": {
        "id": "XgdjsQ5TPuNa",
        "colab_type": "code",
        "outputId": "5bf9f631-ef40-45c2-a816-33959be6893d",
        "colab": {
          "base_uri": "https://localhost:8080/",
          "height": 1891
        }
      },
      "cell_type": "code",
      "source": [
        "model.fit_generator(\n",
        "    train_generator,\n",
        "    steps_per_epoch=nb_train_samples // batch_size,\n",
        "    epochs=epochs,\n",
        "    validation_data=validation_generator,\n",
        "    validation_steps=nb_validation_samples // batch_size)\n",
        "\n",
        "model.save_weights('first_try.h5')"
      ],
      "execution_count": 0,
      "outputs": [
        {
          "output_type": "stream",
          "text": [
            "WARNING:tensorflow:From /usr/local/lib/python3.6/dist-packages/tensorflow/python/ops/math_ops.py:3066: to_int32 (from tensorflow.python.ops.math_ops) is deprecated and will be removed in a future version.\n",
            "Instructions for updating:\n",
            "Use tf.cast instead.\n",
            "Epoch 1/50\n",
            "125/125 [==============================] - 19s 151ms/step - loss: 0.7457 - acc: 0.5390 - val_loss: 0.6757 - val_acc: 0.5938\n",
            "Epoch 2/50\n",
            "125/125 [==============================] - 16s 126ms/step - loss: 0.6784 - acc: 0.5920 - val_loss: 0.6437 - val_acc: 0.6375\n",
            "Epoch 3/50\n",
            "125/125 [==============================] - 16s 132ms/step - loss: 0.6428 - acc: 0.6370 - val_loss: 0.5964 - val_acc: 0.7087\n",
            "Epoch 4/50\n",
            "125/125 [==============================] - 15s 124ms/step - loss: 0.6130 - acc: 0.6680 - val_loss: 0.5823 - val_acc: 0.6775\n",
            "Epoch 5/50\n",
            "125/125 [==============================] - 15s 123ms/step - loss: 0.5875 - acc: 0.6925 - val_loss: 0.7534 - val_acc: 0.6075\n",
            "Epoch 6/50\n",
            "125/125 [==============================] - 15s 122ms/step - loss: 0.5885 - acc: 0.7105 - val_loss: 0.5640 - val_acc: 0.7113\n",
            "Epoch 7/50\n",
            "125/125 [==============================] - 15s 123ms/step - loss: 0.5740 - acc: 0.7110 - val_loss: 0.5338 - val_acc: 0.7175\n",
            "Epoch 8/50\n",
            "125/125 [==============================] - 17s 136ms/step - loss: 0.5478 - acc: 0.7395 - val_loss: 0.5327 - val_acc: 0.7175\n",
            "Epoch 9/50\n",
            "125/125 [==============================] - 15s 124ms/step - loss: 0.5400 - acc: 0.7485 - val_loss: 0.5568 - val_acc: 0.7212\n",
            "Epoch 10/50\n",
            "125/125 [==============================] - 15s 123ms/step - loss: 0.5188 - acc: 0.7535 - val_loss: 0.5400 - val_acc: 0.7212\n",
            "Epoch 11/50\n",
            "125/125 [==============================] - 15s 123ms/step - loss: 0.5274 - acc: 0.7585 - val_loss: 0.5122 - val_acc: 0.7450\n",
            "Epoch 12/50\n",
            "125/125 [==============================] - 16s 130ms/step - loss: 0.4998 - acc: 0.7660 - val_loss: 0.5245 - val_acc: 0.7425\n",
            "Epoch 13/50\n",
            "125/125 [==============================] - 16s 131ms/step - loss: 0.4851 - acc: 0.7730 - val_loss: 0.5161 - val_acc: 0.7662\n",
            "Epoch 14/50\n",
            "125/125 [==============================] - 16s 125ms/step - loss: 0.4824 - acc: 0.7725 - val_loss: 0.5543 - val_acc: 0.7288\n",
            "Epoch 15/50\n",
            "125/125 [==============================] - 15s 122ms/step - loss: 0.4980 - acc: 0.7790 - val_loss: 0.5546 - val_acc: 0.7000\n",
            "Epoch 16/50\n",
            "125/125 [==============================] - 15s 123ms/step - loss: 0.4732 - acc: 0.7855 - val_loss: 0.5515 - val_acc: 0.7125\n",
            "Epoch 17/50\n",
            "125/125 [==============================] - 15s 122ms/step - loss: 0.4865 - acc: 0.7765 - val_loss: 0.4961 - val_acc: 0.7775\n",
            "Epoch 18/50\n",
            "125/125 [==============================] - 16s 125ms/step - loss: 0.4682 - acc: 0.7910 - val_loss: 0.5033 - val_acc: 0.7588\n",
            "Epoch 19/50\n",
            "125/125 [==============================] - 16s 127ms/step - loss: 0.4533 - acc: 0.7985 - val_loss: 0.4954 - val_acc: 0.7662\n",
            "Epoch 20/50\n",
            "125/125 [==============================] - 15s 122ms/step - loss: 0.4475 - acc: 0.8045 - val_loss: 0.5786 - val_acc: 0.7400\n",
            "Epoch 21/50\n",
            "125/125 [==============================] - 15s 121ms/step - loss: 0.4401 - acc: 0.8050 - val_loss: 0.5221 - val_acc: 0.7675\n",
            "Epoch 22/50\n",
            "125/125 [==============================] - 15s 122ms/step - loss: 0.4129 - acc: 0.8225 - val_loss: 0.5854 - val_acc: 0.7625\n",
            "Epoch 23/50\n",
            "125/125 [==============================] - 15s 120ms/step - loss: 0.4445 - acc: 0.8040 - val_loss: 0.5633 - val_acc: 0.7662\n",
            "Epoch 24/50\n",
            "125/125 [==============================] - 16s 130ms/step - loss: 0.4247 - acc: 0.8185 - val_loss: 0.5701 - val_acc: 0.7675\n",
            "Epoch 25/50\n",
            "125/125 [==============================] - 15s 120ms/step - loss: 0.4242 - acc: 0.8135 - val_loss: 0.6227 - val_acc: 0.7662\n",
            "Epoch 26/50\n",
            "125/125 [==============================] - 15s 121ms/step - loss: 0.4125 - acc: 0.8135 - val_loss: 0.5395 - val_acc: 0.7488\n",
            "Epoch 27/50\n",
            "125/125 [==============================] - 16s 126ms/step - loss: 0.4211 - acc: 0.8150 - val_loss: 0.5127 - val_acc: 0.7725\n",
            "Epoch 28/50\n",
            "125/125 [==============================] - 15s 121ms/step - loss: 0.4086 - acc: 0.8240 - val_loss: 0.5164 - val_acc: 0.7825\n",
            "Epoch 29/50\n",
            "125/125 [==============================] - 16s 130ms/step - loss: 0.4200 - acc: 0.8165 - val_loss: 0.5982 - val_acc: 0.7338\n",
            "Epoch 30/50\n",
            "125/125 [==============================] - 15s 120ms/step - loss: 0.4151 - acc: 0.8235 - val_loss: 0.4781 - val_acc: 0.7950\n",
            "Epoch 31/50\n",
            "125/125 [==============================] - 15s 119ms/step - loss: 0.4078 - acc: 0.8240 - val_loss: 0.4712 - val_acc: 0.7850\n",
            "Epoch 32/50\n",
            "125/125 [==============================] - 16s 127ms/step - loss: 0.4108 - acc: 0.8215 - val_loss: 0.5286 - val_acc: 0.7500\n",
            "Epoch 33/50\n",
            "125/125 [==============================] - 16s 124ms/step - loss: 0.4117 - acc: 0.8335 - val_loss: 0.5905 - val_acc: 0.7350\n",
            "Epoch 34/50\n",
            "125/125 [==============================] - 16s 130ms/step - loss: 0.3945 - acc: 0.8270 - val_loss: 0.5091 - val_acc: 0.7712\n",
            "Epoch 35/50\n",
            "125/125 [==============================] - 15s 120ms/step - loss: 0.4093 - acc: 0.8220 - val_loss: 0.5365 - val_acc: 0.7550\n",
            "Epoch 36/50\n",
            "125/125 [==============================] - 15s 120ms/step - loss: 0.3916 - acc: 0.8270 - val_loss: 0.5690 - val_acc: 0.7750\n",
            "Epoch 37/50\n",
            "125/125 [==============================] - 15s 121ms/step - loss: 0.4011 - acc: 0.8280 - val_loss: 0.5373 - val_acc: 0.7712\n",
            "Epoch 38/50\n",
            "125/125 [==============================] - 15s 121ms/step - loss: 0.4143 - acc: 0.8415 - val_loss: 0.5323 - val_acc: 0.7875\n",
            "Epoch 39/50\n",
            "125/125 [==============================] - 16s 126ms/step - loss: 0.4008 - acc: 0.8350 - val_loss: 0.6394 - val_acc: 0.7900\n",
            "Epoch 40/50\n",
            "125/125 [==============================] - 16s 125ms/step - loss: 0.3849 - acc: 0.8430 - val_loss: 0.5514 - val_acc: 0.7812\n",
            "Epoch 41/50\n",
            "125/125 [==============================] - 15s 121ms/step - loss: 0.3887 - acc: 0.8300 - val_loss: 0.4665 - val_acc: 0.7812\n",
            "Epoch 42/50\n",
            "125/125 [==============================] - 15s 121ms/step - loss: 0.3900 - acc: 0.8370 - val_loss: 0.5156 - val_acc: 0.7625\n",
            "Epoch 43/50\n",
            "125/125 [==============================] - 15s 122ms/step - loss: 0.4028 - acc: 0.8345 - val_loss: 0.4991 - val_acc: 0.7775\n",
            "Epoch 44/50\n",
            "125/125 [==============================] - 15s 124ms/step - loss: 0.3898 - acc: 0.8300 - val_loss: 0.5018 - val_acc: 0.7875\n",
            "Epoch 45/50\n",
            "125/125 [==============================] - 16s 128ms/step - loss: 0.4165 - acc: 0.8250 - val_loss: 0.6325 - val_acc: 0.7800\n",
            "Epoch 46/50\n",
            "125/125 [==============================] - 15s 121ms/step - loss: 0.3911 - acc: 0.8440 - val_loss: 0.4652 - val_acc: 0.7887\n",
            "Epoch 47/50\n",
            "125/125 [==============================] - 16s 127ms/step - loss: 0.3910 - acc: 0.8320 - val_loss: 0.7338 - val_acc: 0.7588\n",
            "Epoch 48/50\n",
            "125/125 [==============================] - 15s 121ms/step - loss: 0.3838 - acc: 0.8365 - val_loss: 0.5383 - val_acc: 0.7825\n",
            "Epoch 49/50\n",
            "125/125 [==============================] - 15s 120ms/step - loss: 0.3912 - acc: 0.8335 - val_loss: 0.5934 - val_acc: 0.7987\n",
            "Epoch 50/50\n",
            "125/125 [==============================] - 16s 131ms/step - loss: 0.3942 - acc: 0.8360 - val_loss: 0.5375 - val_acc: 0.7887\n"
          ],
          "name": "stdout"
        }
      ]
    },
    {
      "metadata": {
        "id": "eIE7qKQAXfqi",
        "colab_type": "code",
        "colab": {}
      },
      "cell_type": "code",
      "source": [
        "from keras import applications\n",
        "import numpy as np\n",
        "top_model_weights_path = 'bottleneck_fc_model.h5'"
      ],
      "execution_count": 0,
      "outputs": []
    },
    {
      "metadata": {
        "id": "K86PEu8_Xj7V",
        "colab_type": "code",
        "outputId": "32bf0b00-d26b-4e90-b169-112d1a2d2881",
        "colab": {
          "base_uri": "https://localhost:8080/",
          "height": 35
        }
      },
      "cell_type": "code",
      "source": [
        "datagen = ImageDataGenerator(rescale=1. / 255)\n",
        "generator = datagen.flow_from_directory(\n",
        "        train_data_dir,\n",
        "        target_size=(img_width, img_height),\n",
        "        batch_size=batch_size,\n",
        "        class_mode=None,\n",
        "        shuffle=False)"
      ],
      "execution_count": 0,
      "outputs": [
        {
          "output_type": "stream",
          "text": [
            "Found 2000 images belonging to 2 classes.\n"
          ],
          "name": "stdout"
        }
      ]
    },
    {
      "metadata": {
        "id": "VPWKNu73YKpr",
        "colab_type": "code",
        "colab": {}
      },
      "cell_type": "code",
      "source": [
        "model = applications.VGG16(include_top=False, weights='imagenet')\n",
        "\n",
        "bottleneck_features_train = model.predict_generator(\n",
        "        generator, nb_train_samples // batch_size)\n",
        "np.save(open('bottleneck_features_train.npy', 'wb'),\n",
        "            bottleneck_features_train)"
      ],
      "execution_count": 0,
      "outputs": []
    },
    {
      "metadata": {
        "id": "U0EEBvdQYGjL",
        "colab_type": "code",
        "outputId": "51fb191b-7034-45cb-8558-3be8bcdeec49",
        "colab": {
          "base_uri": "https://localhost:8080/",
          "height": 35
        }
      },
      "cell_type": "code",
      "source": [
        "generator = datagen.flow_from_directory(\n",
        "        validation_data_dir,\n",
        "        target_size=(img_width, img_height),\n",
        "        batch_size=batch_size,\n",
        "        class_mode=None,\n",
        "        shuffle=False)\n",
        "bottleneck_features_validation = model.predict_generator(\n",
        "        generator, nb_validation_samples // batch_size)\n",
        "np.save(open('bottleneck_features_validation.npy', 'wb'),\n",
        "            bottleneck_features_validation)"
      ],
      "execution_count": 0,
      "outputs": [
        {
          "output_type": "stream",
          "text": [
            "Found 800 images belonging to 2 classes.\n"
          ],
          "name": "stdout"
        }
      ]
    },
    {
      "metadata": {
        "id": "ei1oDWu3ZW2_",
        "colab_type": "code",
        "colab": {}
      },
      "cell_type": "code",
      "source": [
        "train_data = np.load(open('bottleneck_features_train.npy', 'rb'))\n",
        "train_labels = np.array(\n",
        "     [0] * (nb_train_samples // 2) + [1] * (nb_train_samples // 2))\n",
        "\n",
        "validation_data = np.load(open('bottleneck_features_validation.npy', 'rb'))\n",
        "validation_labels = np.array(\n",
        "     [0] * (nb_validation_samples // 2) + [1] * (nb_validation_samples // 2))\n",
        "\n",
        "top_model = Sequential()\n",
        "top_model.add(Flatten(input_shape=train_data.shape[1:]))\n",
        "top_model.add(Dense(256, activation='relu'))\n",
        "top_model.add(Dropout(0.5))\n",
        "top_model.add(Dense(1, activation='sigmoid'))\n",
        "\n",
        "top_model.compile(optimizer='rmsprop',\n",
        "                  loss='binary_crossentropy', metrics=['accuracy'])\n",
        "\n",
        "top_model.fit(train_data, train_labels,\n",
        "              epochs=epochs,\n",
        "              batch_size=batch_size,\n",
        "              validation_data=(validation_data, validation_labels))\n",
        "top_model.save_weights(top_model_weights_path)"
      ],
      "execution_count": 0,
      "outputs": []
    },
    {
      "metadata": {
        "id": "lDSO6ekcavrB",
        "colab_type": "code",
        "colab": {}
      },
      "cell_type": "code",
      "source": [
        "top_model = Sequential()\n",
        "top_model.add(Flatten(input_shape=train_data.shape[1:]))\n",
        "top_model.add(Dense(256, activation='relu'))\n",
        "top_model.add(Dropout(0.5))\n",
        "top_model.add(Dense(1, activation='sigmoid'))\n",
        "\n",
        "top_model.load_weights(top_model_weights_path)"
      ],
      "execution_count": 0,
      "outputs": []
    },
    {
      "metadata": {
        "id": "0QI2XuxUcM1_",
        "colab_type": "code",
        "colab": {}
      },
      "cell_type": "code",
      "source": [
        "inp = Input((150, 150, 3))\n",
        "\n",
        "vgg = model(inp)\n",
        "\n",
        "output = top_model(vgg)\n",
        "\n",
        "cnn = Model(inp, output)"
      ],
      "execution_count": 0,
      "outputs": []
    },
    {
      "metadata": {
        "id": "j54QoI2VdDDJ",
        "colab_type": "code",
        "colab": {}
      },
      "cell_type": "code",
      "source": [
        "for layer in cnn.layers[:25]:\n",
        "    layer.trainable = False"
      ],
      "execution_count": 0,
      "outputs": []
    },
    {
      "metadata": {
        "id": "jG8F4hEDevEZ",
        "colab_type": "code",
        "colab": {}
      },
      "cell_type": "code",
      "source": [
        "cnn.compile(loss='binary_crossentropy',\n",
        "              optimizer=optimizers.SGD(lr=1e-4, momentum=0.9),\n",
        "              metrics=['accuracy'])\n"
      ],
      "execution_count": 0,
      "outputs": []
    },
    {
      "metadata": {
        "id": "X-HW-BeCg4zx",
        "colab_type": "code",
        "colab": {}
      },
      "cell_type": "code",
      "source": [
        "train_datagen = ImageDataGenerator(\n",
        "    rescale=1. / 255,\n",
        "    shear_range=0.2,\n",
        "    zoom_range=0.2,\n",
        "    horizontal_flip=True)\n"
      ],
      "execution_count": 0,
      "outputs": []
    },
    {
      "metadata": {
        "id": "XiQIoN_mhGvn",
        "colab_type": "code",
        "outputId": "187a2223-cafb-462b-b3b2-410bedef4f95",
        "colab": {
          "base_uri": "https://localhost:8080/",
          "height": 53
        }
      },
      "cell_type": "code",
      "source": [
        "test_datagen = ImageDataGenerator(rescale=1. / 255)\n",
        "\n",
        "train_generator = train_datagen.flow_from_directory(\n",
        "    train_data_dir,\n",
        "    target_size=(img_height, img_width),\n",
        "    batch_size=batch_size,\n",
        "    class_mode='binary')\n",
        "\n",
        "validation_generator = test_datagen.flow_from_directory(\n",
        "    validation_data_dir,\n",
        "    target_size=(img_height, img_width),\n",
        "    batch_size=batch_size,\n",
        "    class_mode='binary')"
      ],
      "execution_count": 0,
      "outputs": [
        {
          "output_type": "stream",
          "text": [
            "Found 2000 images belonging to 2 classes.\n",
            "Found 800 images belonging to 2 classes.\n"
          ],
          "name": "stdout"
        }
      ]
    },
    {
      "metadata": {
        "id": "_Q_-_14uhKCi",
        "colab_type": "code",
        "outputId": "3d764e2d-c98a-43f8-ba1c-5d0e9024c30c",
        "colab": {
          "base_uri": "https://localhost:8080/",
          "height": 1835
        }
      },
      "cell_type": "code",
      "source": [
        "cnn.fit_generator(\n",
        "    train_generator,\n",
        "    steps_per_epoch=nb_train_samples//batch_size,\n",
        "    epochs=epochs,\n",
        "    validation_data=validation_generator,\n",
        "    validation_steps=nb_validation_samples//batch_size)"
      ],
      "execution_count": 0,
      "outputs": [
        {
          "output_type": "stream",
          "text": [
            "Epoch 1/50\n",
            "125/125 [==============================] - 56s 450ms/step - loss: 0.7155 - acc: 0.8970 - val_loss: 1.0061 - val_acc: 0.8708\n",
            "Epoch 2/50\n",
            "125/125 [==============================] - 55s 444ms/step - loss: 0.6444 - acc: 0.9100 - val_loss: 0.9984 - val_acc: 0.8716\n",
            "Epoch 3/50\n",
            "125/125 [==============================] - 54s 433ms/step - loss: 0.6260 - acc: 0.9015 - val_loss: 0.9996 - val_acc: 0.8716\n",
            "Epoch 4/50\n",
            "125/125 [==============================] - 54s 435ms/step - loss: 0.6722 - acc: 0.9075 - val_loss: 1.0035 - val_acc: 0.8709\n",
            "Epoch 5/50\n",
            "125/125 [==============================] - 55s 439ms/step - loss: 0.6355 - acc: 0.9090 - val_loss: 1.0030 - val_acc: 0.8709\n",
            "Epoch 6/50\n",
            "125/125 [==============================] - 53s 427ms/step - loss: 0.6709 - acc: 0.9060 - val_loss: 1.0029 - val_acc: 0.8716\n",
            "Epoch 7/50\n",
            "125/125 [==============================] - 54s 434ms/step - loss: 0.6488 - acc: 0.9060 - val_loss: 0.9989 - val_acc: 0.8714\n",
            "Epoch 8/50\n",
            "125/125 [==============================] - 56s 448ms/step - loss: 0.6253 - acc: 0.9065 - val_loss: 1.0010 - val_acc: 0.8713\n",
            "Epoch 9/50\n",
            "125/125 [==============================] - 54s 428ms/step - loss: 0.8165 - acc: 0.8895 - val_loss: 1.0039 - val_acc: 0.8712\n",
            "Epoch 10/50\n",
            "125/125 [==============================] - 55s 439ms/step - loss: 0.6892 - acc: 0.9030 - val_loss: 1.0037 - val_acc: 0.8710\n",
            "Epoch 11/50\n",
            "125/125 [==============================] - 55s 436ms/step - loss: 0.6477 - acc: 0.9105 - val_loss: 0.9997 - val_acc: 0.8715\n",
            "Epoch 12/50\n",
            "125/125 [==============================] - 53s 427ms/step - loss: 0.6381 - acc: 0.9100 - val_loss: 1.0020 - val_acc: 0.8710\n",
            "Epoch 13/50\n",
            "125/125 [==============================] - 55s 442ms/step - loss: 0.6708 - acc: 0.9080 - val_loss: 1.0030 - val_acc: 0.8709\n",
            "Epoch 14/50\n",
            "125/125 [==============================] - 55s 440ms/step - loss: 0.6699 - acc: 0.9020 - val_loss: 1.0010 - val_acc: 0.8716\n",
            "Epoch 15/50\n",
            "125/125 [==============================] - 53s 425ms/step - loss: 0.7098 - acc: 0.8960 - val_loss: 1.0045 - val_acc: 0.8709\n",
            "Epoch 16/50\n",
            "125/125 [==============================] - 55s 439ms/step - loss: 0.6733 - acc: 0.9020 - val_loss: 0.9992 - val_acc: 0.8718\n",
            "Epoch 17/50\n",
            "125/125 [==============================] - 54s 431ms/step - loss: 0.6831 - acc: 0.9060 - val_loss: 1.0051 - val_acc: 0.8709\n",
            "Epoch 18/50\n",
            "125/125 [==============================] - 53s 424ms/step - loss: 0.6615 - acc: 0.9000 - val_loss: 0.9996 - val_acc: 0.8714\n",
            "Epoch 19/50\n",
            "125/125 [==============================] - 56s 445ms/step - loss: 0.6342 - acc: 0.9030 - val_loss: 1.0048 - val_acc: 0.8710\n",
            "Epoch 20/50\n",
            "125/125 [==============================] - 54s 435ms/step - loss: 0.7067 - acc: 0.8935 - val_loss: 0.9992 - val_acc: 0.8713\n",
            "Epoch 21/50\n",
            "125/125 [==============================] - 53s 424ms/step - loss: 0.6814 - acc: 0.8980 - val_loss: 1.0048 - val_acc: 0.8711\n",
            "Epoch 22/50\n",
            "125/125 [==============================] - 54s 436ms/step - loss: 0.7092 - acc: 0.8935 - val_loss: 0.9991 - val_acc: 0.8716\n",
            "Epoch 23/50\n",
            "125/125 [==============================] - 54s 436ms/step - loss: 0.7288 - acc: 0.8975 - val_loss: 1.0047 - val_acc: 0.8709\n",
            "Epoch 24/50\n",
            "125/125 [==============================] - 53s 427ms/step - loss: 0.7201 - acc: 0.8995 - val_loss: 1.0008 - val_acc: 0.8714\n",
            "Epoch 25/50\n",
            "125/125 [==============================] - 56s 448ms/step - loss: 0.6408 - acc: 0.9110 - val_loss: 1.0020 - val_acc: 0.8712\n",
            "Epoch 26/50\n",
            "125/125 [==============================] - 54s 435ms/step - loss: 0.6248 - acc: 0.9155 - val_loss: 0.9991 - val_acc: 0.8712\n",
            "Epoch 27/50\n",
            "125/125 [==============================] - 53s 427ms/step - loss: 0.6720 - acc: 0.9070 - val_loss: 1.0062 - val_acc: 0.8710\n",
            "Epoch 28/50\n",
            "125/125 [==============================] - 54s 434ms/step - loss: 0.7127 - acc: 0.9090 - val_loss: 1.0024 - val_acc: 0.8713\n",
            "Epoch 29/50\n",
            "125/125 [==============================] - 54s 436ms/step - loss: 0.7388 - acc: 0.8890 - val_loss: 0.9980 - val_acc: 0.8715\n",
            "Epoch 30/50\n",
            "125/125 [==============================] - 53s 423ms/step - loss: 0.6419 - acc: 0.9025 - val_loss: 1.0017 - val_acc: 0.8712\n",
            "Epoch 31/50\n",
            "125/125 [==============================] - 55s 438ms/step - loss: 0.7042 - acc: 0.9025 - val_loss: 1.0035 - val_acc: 0.8712\n",
            "Epoch 32/50\n",
            "125/125 [==============================] - 54s 434ms/step - loss: 0.6725 - acc: 0.9020 - val_loss: 1.0001 - val_acc: 0.8713\n",
            "Epoch 33/50\n",
            "125/125 [==============================] - 54s 431ms/step - loss: 0.7032 - acc: 0.9040 - val_loss: 1.0015 - val_acc: 0.8715\n",
            "Epoch 34/50\n",
            "125/125 [==============================] - 55s 436ms/step - loss: 0.6247 - acc: 0.9060 - val_loss: 1.0031 - val_acc: 0.8708\n",
            "Epoch 35/50\n",
            "125/125 [==============================] - 54s 432ms/step - loss: 0.6357 - acc: 0.9040 - val_loss: 1.0022 - val_acc: 0.8715\n",
            "Epoch 36/50\n",
            "125/125 [==============================] - 54s 435ms/step - loss: 0.7798 - acc: 0.8940 - val_loss: 1.0009 - val_acc: 0.8713\n",
            "Epoch 37/50\n",
            "125/125 [==============================] - 54s 432ms/step - loss: 0.6444 - acc: 0.9010 - val_loss: 1.0041 - val_acc: 0.8711\n",
            "Epoch 38/50\n",
            "125/125 [==============================] - 54s 435ms/step - loss: 0.6630 - acc: 0.8990 - val_loss: 1.0007 - val_acc: 0.8714\n",
            "Epoch 39/50\n",
            "125/125 [==============================] - 54s 430ms/step - loss: 0.7543 - acc: 0.8885 - val_loss: 1.0047 - val_acc: 0.8709\n",
            "Epoch 40/50\n",
            "125/125 [==============================] - 54s 432ms/step - loss: 0.7456 - acc: 0.8970 - val_loss: 1.0014 - val_acc: 0.8712\n",
            "Epoch 41/50\n",
            "125/125 [==============================] - 54s 432ms/step - loss: 0.6814 - acc: 0.9050 - val_loss: 1.0005 - val_acc: 0.8715\n",
            "Epoch 42/50\n",
            "125/125 [==============================] - 55s 438ms/step - loss: 0.6670 - acc: 0.8975 - val_loss: 1.0065 - val_acc: 0.8711\n",
            "Epoch 43/50\n",
            "125/125 [==============================] - 54s 428ms/step - loss: 0.6775 - acc: 0.9035 - val_loss: 0.9974 - val_acc: 0.8714\n",
            "Epoch 44/50\n",
            "125/125 [==============================] - 55s 441ms/step - loss: 0.6948 - acc: 0.9010 - val_loss: 1.0016 - val_acc: 0.8712\n",
            "Epoch 45/50\n",
            "125/125 [==============================] - 54s 429ms/step - loss: 0.5816 - acc: 0.9075 - val_loss: 1.0051 - val_acc: 0.8711\n",
            "Epoch 46/50\n",
            "125/125 [==============================] - 54s 430ms/step - loss: 0.6564 - acc: 0.8990 - val_loss: 0.9984 - val_acc: 0.8713\n",
            "Epoch 47/50\n",
            "125/125 [==============================] - 54s 430ms/step - loss: 0.6294 - acc: 0.8980 - val_loss: 1.0045 - val_acc: 0.8711\n",
            "Epoch 48/50\n",
            "125/125 [==============================] - 55s 442ms/step - loss: 0.7454 - acc: 0.8990 - val_loss: 1.0025 - val_acc: 0.8711\n",
            "Epoch 49/50\n",
            "125/125 [==============================] - 53s 425ms/step - loss: 0.6998 - acc: 0.8995 - val_loss: 0.9986 - val_acc: 0.8717\n",
            "Epoch 50/50\n",
            "125/125 [==============================] - 54s 433ms/step - loss: 0.6715 - acc: 0.9010 - val_loss: 1.0040 - val_acc: 0.8709\n"
          ],
          "name": "stdout"
        },
        {
          "output_type": "execute_result",
          "data": {
            "text/plain": [
              "<keras.callbacks.History at 0x7f6475625898>"
            ]
          },
          "metadata": {
            "tags": []
          },
          "execution_count": 72
        }
      ]
    }
  ]
}